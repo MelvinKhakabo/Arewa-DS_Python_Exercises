{
 "cells": [
  {
   "cell_type": "markdown",
   "metadata": {},
   "source": [
    "# Day 9: 30 Days of python programming"
   ]
  },
  {
   "cell_type": "markdown",
   "metadata": {},
   "source": [
    "##  Exercises - Module 9 Functions list and comprehension"
   ]
  },
  {
   "cell_type": "markdown",
   "metadata": {},
   "source": [
    "Exercises: Level 1\n"
   ]
  },
  {
   "cell_type": "markdown",
   "metadata": {},
   "source": [
    "1. Declare a function add_two_numbers. It takes two parameters and it returns a sum."
   ]
  },
  {
   "cell_type": "code",
   "execution_count": null,
   "metadata": {},
   "outputs": [],
   "source": [
    "#Declare a function add_two_numbers. It takes two parameters and it returns a sum.\n",
    "def add_two_numbers(num_1, num_2):          #Defining the funtion add_to_numbers\n",
    "    return num_1 + num_2\n",
    "add_two_numbers(2,4)"
   ]
  },
  {
   "cell_type": "markdown",
   "metadata": {},
   "source": [
    "2. Area of a circle is calculated as follows: area = π x r x r. Write a function that calculates area_of_circle."
   ]
  },
  {
   "cell_type": "code",
   "execution_count": null,
   "metadata": {},
   "outputs": [],
   "source": [
    "# Area of a circle is calculated as follows: area = π x r x r. Write a function that calculates area_of_circle.\n",
    "def area_of_circle(r):                      #Defining the function area_of_circle\n",
    "    pi = 3.14159\n",
    "    area = pi * r * r\n",
    "    return area\n",
    "area_of_circle(5)\n"
   ]
  },
  {
   "cell_type": "markdown",
   "metadata": {},
   "source": [
    "3. Write a function called add_all_nums which takes arbitrary number of arguments and sums all the arguments. Check if all the list items are number types. If not do give a reasonable feedback."
   ]
  },
  {
   "cell_type": "code",
   "execution_count": 1,
   "metadata": {},
   "outputs": [],
   "source": [
    "#Write a function called add_all_nums which takes arbitrary number of arguments and sums all the arguments. Check if all the list items are number types. If not do give a reasonable feedback.\n",
    "def add_all_nums(*args):                    #Defining the function add_all_nums\n",
    "    total = 0\n",
    "    for i in args:\n",
    "        if type(i) == int or type(i) == float:\n",
    "            total += i\n",
    "        else:\n",
    "            return \"Invalid input\"\n",
    "    return total"
   ]
  },
  {
   "cell_type": "markdown",
   "metadata": {},
   "source": [
    "4. Temperature in °C can be converted to °F using this formula: °F = (°C x 9/5) + 32. Write a function which converts °C to °F, convert_celsius_to-fahrenheit."
   ]
  },
  {
   "cell_type": "code",
   "execution_count": null,
   "metadata": {},
   "outputs": [],
   "source": [
    "#Temperature in °C can be converted to °F using this formula: °F = (°C x 9/5) + 32. Write a function which converts °C to °F, convert_celsius_to-fahrenheit.\n",
    "def convert_celsius_to_fahrenheit(celsius):  #Defining the function convert_celsius_to_fahrenheit\n",
    "    fahrenheit = (celsius * 9/5) + 32\n",
    "    return fahrenheit\n",
    "convert_celsius_to_fahrenheit(36)\n"
   ]
  },
  {
   "cell_type": "markdown",
   "metadata": {},
   "source": [
    "5. Write a function called check-season, it takes a month parameter and returns the season: Autumn, Winter, Spring or Summer"
   ]
  },
  {
   "cell_type": "code",
   "execution_count": 1,
   "metadata": {},
   "outputs": [
    {
     "data": {
      "text/plain": [
       "'Spring'"
      ]
     },
     "execution_count": 1,
     "metadata": {},
     "output_type": "execute_result"
    }
   ],
   "source": [
    "#Write a function called check-season, it takes a month parameter and returns the season: Autumn, Winter, Spring or Summer.\n",
    "def check_season(month):                    #Defining the function check_season\n",
    "    if month in [\"September\", \"October\", \"November\"]:\n",
    "        return \"Autumn\"\n",
    "    elif month in [\"December\", \"January\", \"February\"]:\n",
    "        return \"Winter\"\n",
    "    elif month in [\"March\", \"April\", \"May\"]:\n",
    "        return \"Spring\"\n",
    "    elif month in [\"June\", \"July\", \"August\"]:\n",
    "        return \"Summer\"\n",
    "    else:\n",
    "        return \"Invalid input\"\n",
    "check_season(\"May\")\n"
   ]
  },
  {
   "cell_type": "markdown",
   "metadata": {},
   "source": [
    "6. Write a function called calculate_slope which return the slope of a linear equation"
   ]
  },
  {
   "cell_type": "code",
   "execution_count": null,
   "metadata": {},
   "outputs": [],
   "source": [
    "#Write a function called calculate_slope which return the slope of two points.\n",
    "def calculate_slope(x1, y1, x2, y2):        #Defining the function calculate_slope\n",
    "    slope = (y2 - y1) / (x2 - x1)\n",
    "    return slope\n",
    "calculate_slope(2, 3, 5, 6)\n"
   ]
  },
  {
   "cell_type": "markdown",
   "metadata": {},
   "source": [
    "7. Quadratic equation is calculated as follows: ax² + bx + c = 0. Write a function which calculates solution set of a quadratic equation, solve_quadratic_eqn."
   ]
  },
  {
   "cell_type": "code",
   "execution_count": 2,
   "metadata": {},
   "outputs": [
    {
     "data": {
      "text/plain": [
       "(-2.0, -3.0)"
      ]
     },
     "execution_count": 2,
     "metadata": {},
     "output_type": "execute_result"
    }
   ],
   "source": [
    "#Quadratic equation is calculated as follows: ax² + bx + c = 0. Write a function which calculates solution set of a quadratic equation, solve_quadratic_eqn.\n",
    "def solve_quadratic_eqn(a, b, c):           #Defining the function solve_quadratic_eqn\n",
    "    x1 = (-b + (b**2 - 4*a*c)**0.5) / 2*a\n",
    "    x2 = (-b - (b**2 - 4*a*c)**0.5) / 2*a\n",
    "    return x1, x2\n",
    "solve_quadratic_eqn(1, 5, 6)\n"
   ]
  },
  {
   "cell_type": "markdown",
   "metadata": {},
   "source": [
    "8. Declare a function named print_list. It takes a list as a parameter and it prints out each element of the list."
   ]
  },
  {
   "cell_type": "code",
   "execution_count": 3,
   "metadata": {},
   "outputs": [
    {
     "name": "stdout",
     "output_type": "stream",
     "text": [
      "1\n",
      "2\n",
      "3\n",
      "4\n",
      "5\n"
     ]
    }
   ],
   "source": [
    "#Declare a function named print_list. It takes a list as a parameter and it prints out each element of the list.\n",
    "def print_list(lst):                         #Defining the function print_list\n",
    "    for i in lst:\n",
    "        print(i)\n",
    "print_list([1, 2, 3, 4, 5])\n"
   ]
  }
 ],
 "metadata": {
  "kernelspec": {
   "display_name": "Python 3",
   "language": "python",
   "name": "python3"
  },
  "language_info": {
   "codemirror_mode": {
    "name": "ipython",
    "version": 3
   },
   "file_extension": ".py",
   "mimetype": "text/x-python",
   "name": "python",
   "nbconvert_exporter": "python",
   "pygments_lexer": "ipython3",
   "version": "3.13.0"
  }
 },
 "nbformat": 4,
 "nbformat_minor": 2
}
