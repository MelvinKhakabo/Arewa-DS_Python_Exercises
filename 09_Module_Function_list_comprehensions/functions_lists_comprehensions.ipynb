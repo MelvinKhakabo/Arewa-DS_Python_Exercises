{
 "cells": [
  {
   "cell_type": "markdown",
   "metadata": {},
   "source": [
    "# Day 9: 30 Days of python programming"
   ]
  },
  {
   "cell_type": "markdown",
   "metadata": {},
   "source": [
    "##  Exercises - Module 9 Functions list and comprehension"
   ]
  },
  {
   "cell_type": "markdown",
   "metadata": {},
   "source": [
    "Exercises: Level 1\n"
   ]
  },
  {
   "cell_type": "markdown",
   "metadata": {},
   "source": [
    "1. Declare a function add_two_numbers. It takes two parameters and it returns a sum."
   ]
  },
  {
   "cell_type": "code",
   "execution_count": null,
   "metadata": {},
   "outputs": [],
   "source": [
    "#Declare a function add_two_numbers. It takes two parameters and it returns a sum.\n",
    "def add_two_numbers(num_1, num_2):          #Defining the funtion add_to_numbers\n",
    "    return num_1 + num_2\n",
    "add_two_numbers(2,4)"
   ]
  },
  {
   "cell_type": "markdown",
   "metadata": {},
   "source": [
    "2. Area of a circle is calculated as follows: area = π x r x r. Write a function that calculates area_of_circle."
   ]
  },
  {
   "cell_type": "code",
   "execution_count": null,
   "metadata": {},
   "outputs": [],
   "source": [
    "# Area of a circle is calculated as follows: area = π x r x r. Write a function that calculates area_of_circle.\n",
    "def area_of_circle(r):                      #Defining the function area_of_circle\n",
    "    pi = 3.14159\n",
    "    area = pi * r * r\n",
    "    return area\n",
    "area_of_circle(5)\n"
   ]
  }
 ],
 "metadata": {
  "kernelspec": {
   "display_name": "Python 3",
   "language": "python",
   "name": "python3"
  },
  "language_info": {
   "name": "python",
   "version": "3.13.0"
  }
 },
 "nbformat": 4,
 "nbformat_minor": 2
}
