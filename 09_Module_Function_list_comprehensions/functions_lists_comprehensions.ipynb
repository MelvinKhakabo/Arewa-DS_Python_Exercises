{
 "cells": [
  {
   "cell_type": "markdown",
   "metadata": {},
   "source": [
    "# Day 9: 30 Days of python programming"
   ]
  },
  {
   "cell_type": "markdown",
   "metadata": {},
   "source": [
    "##  Exercises - Module 9 Functions list and comprehension"
   ]
  },
  {
   "cell_type": "markdown",
   "metadata": {},
   "source": [
    "Exercises: Level 1\n"
   ]
  },
  {
   "cell_type": "markdown",
   "metadata": {},
   "source": [
    "1. Declare a function add_two_numbers. It takes two parameters and it returns a sum."
   ]
  },
  {
   "cell_type": "code",
   "execution_count": null,
   "metadata": {},
   "outputs": [],
   "source": [
    "#Declare a function add_two_numbers. It takes two parameters and it returns a sum.\n",
    "def add_two_numbers(num_1, num_2):          #Defining the funtion add_to_numbers\n",
    "    return num_1 + num_2\n",
    "add_two_numbers(2,4)"
   ]
  },
  {
   "cell_type": "markdown",
   "metadata": {},
   "source": [
    "2. Area of a circle is calculated as follows: area = π x r x r. Write a function that calculates area_of_circle."
   ]
  },
  {
   "cell_type": "code",
   "execution_count": null,
   "metadata": {},
   "outputs": [],
   "source": [
    "# Area of a circle is calculated as follows: area = π x r x r. Write a function that calculates area_of_circle.\n",
    "def area_of_circle(r):                      #Defining the function area_of_circle\n",
    "    pi = 3.14159\n",
    "    area = pi * r * r\n",
    "    return area\n",
    "area_of_circle(5)\n"
   ]
  },
  {
   "cell_type": "markdown",
   "metadata": {},
   "source": [
    "3. Write a function called add_all_nums which takes arbitrary number of arguments and sums all the arguments. Check if all the list items are number types. If not do give a reasonable feedback."
   ]
  },
  {
   "cell_type": "code",
   "execution_count": 1,
   "metadata": {},
   "outputs": [],
   "source": [
    "#Write a function called add_all_nums which takes arbitrary number of arguments and sums all the arguments. Check if all the list items are number types. If not do give a reasonable feedback.\n",
    "def add_all_nums(*args):                    #Defining the function add_all_nums\n",
    "    total = 0\n",
    "    for i in args:\n",
    "        if type(i) == int or type(i) == float:\n",
    "            total += i\n",
    "        else:\n",
    "            return \"Invalid input\"\n",
    "    return total"
   ]
  },
  {
   "cell_type": "markdown",
   "metadata": {},
   "source": [
    "4. Temperature in °C can be converted to °F using this formula: °F = (°C x 9/5) + 32. Write a function which converts °C to °F, convert_celsius_to-fahrenheit."
   ]
  },
  {
   "cell_type": "code",
   "execution_count": null,
   "metadata": {},
   "outputs": [],
   "source": [
    "#Temperature in °C can be converted to °F using this formula: °F = (°C x 9/5) + 32. Write a function which converts °C to °F, convert_celsius_to-fahrenheit.\n",
    "def convert_celsius_to_fahrenheit(celsius):  #Defining the function convert_celsius_to_fahrenheit\n",
    "    fahrenheit = (celsius * 9/5) + 32\n",
    "    return fahrenheit\n",
    "convert_celsius_to_fahrenheit(36)\n"
   ]
  },
  {
   "cell_type": "markdown",
   "metadata": {},
   "source": [
    "5. Write a function called check-season, it takes a month parameter and returns the season: Autumn, Winter, Spring or Summer"
   ]
  },
  {
   "cell_type": "code",
   "execution_count": 1,
   "metadata": {},
   "outputs": [
    {
     "data": {
      "text/plain": [
       "'Spring'"
      ]
     },
     "execution_count": 1,
     "metadata": {},
     "output_type": "execute_result"
    }
   ],
   "source": [
    "#Write a function called check-season, it takes a month parameter and returns the season: Autumn, Winter, Spring or Summer.\n",
    "def check_season(month):                    #Defining the function check_season\n",
    "    if month in [\"September\", \"October\", \"November\"]:\n",
    "        return \"Autumn\"\n",
    "    elif month in [\"December\", \"January\", \"February\"]:\n",
    "        return \"Winter\"\n",
    "    elif month in [\"March\", \"April\", \"May\"]:\n",
    "        return \"Spring\"\n",
    "    elif month in [\"June\", \"July\", \"August\"]:\n",
    "        return \"Summer\"\n",
    "    else:\n",
    "        return \"Invalid input\"\n",
    "check_season(\"May\")\n"
   ]
  },
  {
   "cell_type": "markdown",
   "metadata": {},
   "source": [
    "6. Write a function called calculate_slope which return the slope of a linear equation"
   ]
  },
  {
   "cell_type": "code",
   "execution_count": null,
   "metadata": {},
   "outputs": [],
   "source": [
    "#Write a function called calculate_slope which return the slope of two points.\n",
    "def calculate_slope(x1, y1, x2, y2):        #Defining the function calculate_slope\n",
    "    slope = (y2 - y1) / (x2 - x1)\n",
    "    return slope\n",
    "calculate_slope(2, 3, 5, 6)\n"
   ]
  },
  {
   "cell_type": "markdown",
   "metadata": {},
   "source": [
    "7. Quadratic equation is calculated as follows: ax² + bx + c = 0. Write a function which calculates solution set of a quadratic equation, solve_quadratic_eqn."
   ]
  },
  {
   "cell_type": "code",
   "execution_count": 2,
   "metadata": {},
   "outputs": [
    {
     "data": {
      "text/plain": [
       "(-2.0, -3.0)"
      ]
     },
     "execution_count": 2,
     "metadata": {},
     "output_type": "execute_result"
    }
   ],
   "source": [
    "#Quadratic equation is calculated as follows: ax² + bx + c = 0. Write a function which calculates solution set of a quadratic equation, solve_quadratic_eqn.\n",
    "def solve_quadratic_eqn(a, b, c):           #Defining the function solve_quadratic_eqn\n",
    "    x1 = (-b + (b**2 - 4*a*c)**0.5) / 2*a\n",
    "    x2 = (-b - (b**2 - 4*a*c)**0.5) / 2*a\n",
    "    return x1, x2\n",
    "solve_quadratic_eqn(1, 5, 6)\n"
   ]
  },
  {
   "cell_type": "markdown",
   "metadata": {},
   "source": [
    "8. Declare a function named print_list. It takes a list as a parameter and it prints out each element of the list."
   ]
  },
  {
   "cell_type": "code",
   "execution_count": 3,
   "metadata": {},
   "outputs": [
    {
     "name": "stdout",
     "output_type": "stream",
     "text": [
      "1\n",
      "2\n",
      "3\n",
      "4\n",
      "5\n"
     ]
    }
   ],
   "source": [
    "#Declare a function named print_list. It takes a list as a parameter and it prints out each element of the list.\n",
    "def print_list(lst):                         #Defining the function print_list\n",
    "    for i in lst:\n",
    "        print(i)\n",
    "print_list([1, 2, 3, 4, 5])\n"
   ]
  },
  {
   "cell_type": "markdown",
   "metadata": {},
   "source": [
    "9. Declare a function named reverse_list. It takes an array as a parameter and it returns the reverse of the array (use loops)."
   ]
  },
  {
   "cell_type": "code",
   "execution_count": null,
   "metadata": {},
   "outputs": [],
   "source": [
    "#Declare a function named reverse_list. It takes an array as a parameter and it returns the reverse of the array (use loops).\n",
    "def reverse_list(lst):                       #Defining the function reverse_list\n",
    "    reversed_list = []\n",
    "    for i in range(len(lst)):\n",
    "        reversed_list.append(lst[len(lst) - 1 - i])\n",
    "    return reversed_list\n",
    "reverse_list([1, 2, 3, 4, 5])\n",
    "\n"
   ]
  },
  {
   "cell_type": "markdown",
   "metadata": {},
   "source": [
    "10. Declare a function named capitalize_list_items. It takes a list as a parameter and it returns a capitalized list of items"
   ]
  },
  {
   "cell_type": "code",
   "execution_count": null,
   "metadata": {},
   "outputs": [],
   "source": [
    "#Declare a function named capitalize_list_items. It takes a list as a parameter and it returns a capitalized list of items\n",
    "def capitalize_list_items(lst):              #Defining the function capitalize_list_items\n",
    "    capitalized_list = []\n",
    "    for i in lst:\n",
    "        capitalized_list.append(i.capitalize())\n",
    "    return capitalized_list\n",
    "capitalize_list_items([\"hello\", \"world\", \"python\"])"
   ]
  },
  {
   "cell_type": "markdown",
   "metadata": {},
   "source": [
    "11. Declare a function named add_item. It takes a list and an item parameters. It returns a list with the item added at the end."
   ]
  },
  {
   "cell_type": "code",
   "execution_count": null,
   "metadata": {},
   "outputs": [],
   "source": [
    "#Declare a function named add_item. It takes a list and an item parameters. It returns a list with the item added at the end.\n",
    "def add_item(lst, item):                     #Defining the function add_item\n",
    "    lst.append(item)\n",
    "    return lst\n",
    "add_item([1, 2, 3, 4, 5], 6)\n"
   ]
  },
  {
   "cell_type": "markdown",
   "metadata": {},
   "source": [
    "12. Declare a function named remove_item. It takes a list and an item parameters. It returns a list with the item removed from it."
   ]
  },
  {
   "cell_type": "code",
   "execution_count": null,
   "metadata": {},
   "outputs": [],
   "source": [
    "#Declare a function named remove_item. It takes a list and an item parameters. It returns a list with the item removed from it.\n",
    "def remove_item(lst, item):                  #Defining the function remove_item\n",
    "    lst.remove(item)\n",
    "    return lst\n",
    "remove_item([1, 2, 3, 4, 5], 3)\n"
   ]
  },
  {
   "cell_type": "markdown",
   "metadata": {},
   "source": [
    "13. Declare a function named sum_of_numbers. It takes a number parameter and it adds all the numbers in that range."
   ]
  },
  {
   "cell_type": "code",
   "execution_count": 1,
   "metadata": {},
   "outputs": [
    {
     "data": {
      "text/plain": [
       "15"
      ]
     },
     "execution_count": 1,
     "metadata": {},
     "output_type": "execute_result"
    }
   ],
   "source": [
    "#Declare a function named sum_of_numbers. It takes a number parameter and it adds all the numbers in that range.\n",
    "def sum_of_numbers(num):                     #Defining the function sum_of_numbers\n",
    "    sum = 0\n",
    "    for i in range(num + 1):\n",
    "        sum += i\n",
    "    return sum\n",
    "sum_of_numbers(5)\n"
   ]
  },
  {
   "cell_type": "markdown",
   "metadata": {},
   "source": [
    "14. Declare a function named sum_of_odds. It takes a number parameter and it adds all the odd numbers in that range."
   ]
  },
  {
   "cell_type": "code",
   "execution_count": 2,
   "metadata": {},
   "outputs": [
    {
     "data": {
      "text/plain": [
       "9"
      ]
     },
     "execution_count": 2,
     "metadata": {},
     "output_type": "execute_result"
    }
   ],
   "source": [
    "#Declare a function named sum_of_odds. It takes a number parameter and it adds all the odd numbers in that range.\n",
    "def sum_of_odds(num):                        #Defining the function sum_of_odds\n",
    "    sum = 0\n",
    "    for i in range(num + 1):\n",
    "        if i % 2 != 0:\n",
    "            sum += i\n",
    "    return sum\n",
    "sum_of_odds(5)\n"
   ]
  },
  {
   "cell_type": "markdown",
   "metadata": {},
   "source": [
    "15. Declare a function named sum_of_even. It takes a number parameter and it adds all the even numbers in that - range."
   ]
  },
  {
   "cell_type": "code",
   "execution_count": 3,
   "metadata": {},
   "outputs": [
    {
     "data": {
      "text/plain": [
       "6"
      ]
     },
     "execution_count": 3,
     "metadata": {},
     "output_type": "execute_result"
    }
   ],
   "source": [
    "#Declare a function named sum_of_even. It takes a number parameter and it adds all the even numbers in that - range.\n",
    "def sum_of_even(num):                        #Defining the function sum_of_even\n",
    "    sum = 0\n",
    "    for i in range(num + 1):\n",
    "        if i % 2 == 0:\n",
    "            sum += i\n",
    "    return sum\n",
    "sum_of_even(5)\n"
   ]
  },
  {
   "cell_type": "markdown",
   "metadata": {},
   "source": [
    "Exercises Level 2"
   ]
  },
  {
   "cell_type": "markdown",
   "metadata": {},
   "source": [
    "1. Declare a function named evens_and_odds . It takes a positive integer as parameter and it counts number of evens and odds in the number."
   ]
  },
  {
   "cell_type": "code",
   "execution_count": 4,
   "metadata": {},
   "outputs": [],
   "source": [
    "#Declare a function named evens_and_odds . It takes a positive integer as parameter and it counts number of evens and odds in the number.\n",
    "def evens_and_odds(num):                     #Defining the function evens_and_odds\n",
    "    evens = 0\n",
    "    odds = 0\n",
    "    for i in range(num + 1):\n",
    "        if i % 2 == 0:\n",
    "            evens += 1\n",
    "        else:\n",
    "            odds += 1\n",
    "    return evens, odds"
   ]
  },
  {
   "cell_type": "markdown",
   "metadata": {},
   "source": [
    "2. Call your function factorial, it takes a whole number as a parameter and it return a factorial of the number"
   ]
  },
  {
   "cell_type": "code",
   "execution_count": 5,
   "metadata": {},
   "outputs": [
    {
     "data": {
      "text/plain": [
       "120"
      ]
     },
     "execution_count": 5,
     "metadata": {},
     "output_type": "execute_result"
    }
   ],
   "source": [
    "#Call your function factorial, it takes a whole number as a parameter and it return a factorial of the number\n",
    "def factorial(num):                          #Defining the function factorial\n",
    "    fact = 1\n",
    "    for i in range(1, num + 1):\n",
    "        fact *= i\n",
    "    return fact\n",
    "factorial(5)\n"
   ]
  },
  {
   "cell_type": "markdown",
   "metadata": {},
   "source": [
    "3. Call your function is_empty, it takes a parameter and it checks if it is empty or not"
   ]
  },
  {
   "cell_type": "code",
   "execution_count": 6,
   "metadata": {},
   "outputs": [
    {
     "data": {
      "text/plain": [
       "False"
      ]
     },
     "execution_count": 6,
     "metadata": {},
     "output_type": "execute_result"
    }
   ],
   "source": [
    "#Call your function is_empty, it takes a parameter and it checks if it is empty or not\n",
    "def is_empty(param):                         #Defining the function is_empty\n",
    "    if len(param) == 0:\n",
    "        return True\n",
    "    else:\n",
    "        return False\n",
    "is_empty([])\n",
    "is_empty([1, 2, 3, 4, 5])\n"
   ]
  },
  {
   "cell_type": "markdown",
   "metadata": {},
   "source": [
    "4. Write different functions which take lists. They should calculate_mean, calculate_median, calculate_mode, calculate_range, calculate_variance, calculate_std (standard deviation)."
   ]
  },
  {
   "cell_type": "code",
   "execution_count": 7,
   "metadata": {},
   "outputs": [
    {
     "name": "stdout",
     "output_type": "stream",
     "text": [
      "Mean: 3.125\n",
      "Mode: 4\n",
      "Median: 3.5\n",
      "Range 4\n",
      "variance: 1.8392857142857142\n",
      "Standard Deviation: 1.3562026818605375\n"
     ]
    }
   ],
   "source": [
    "#Write different functions which take lists. They should calculate_mean, calculate_median, calculate_mode, calculate_range, calculate_variance, calculate_std (standard deviation).\n",
    "from statistics import mean, median, mode, variance, stdev\n",
    "\n",
    "#function to calculate Mean\n",
    "def calculate_mean(data):\n",
    "    return mean(data)\n",
    "\n",
    "#Function to calculate Mode\n",
    "def calculate_mode(data):\n",
    "    try:\n",
    "        return mode(data)\n",
    "    except:\n",
    "        return \"No unique mode found\"\n",
    "\n",
    "#Function to calculate Median\n",
    "def calculate_medidan(data):\n",
    "    return median(data)\n",
    "\n",
    "#Function to calculate variance\n",
    "def calculate_variance(data):\n",
    "    return variance(data)\n",
    "    \n",
    "# Function to calculate range\n",
    "def calculate_range(data):\n",
    "    return max(data) - min(data)\n",
    "\n",
    "#Function to calculate standard deviation\n",
    "def calculate_std(data):\n",
    "    return stdev(data)\n",
    "\n",
    "data = [1, 2, 2, 3, 4, 4, 4, 5]\n",
    "\n",
    "print(\"Mean:\", calculate_mean(data))\n",
    "print(\"Mode:\", calculate_mode(data))\n",
    "print(\"Median:\", calculate_medidan(data))\n",
    "print(\"Range\", calculate_range(data))\n",
    "print(\"variance:\", calculate_variance(data))\n",
    "print(\"Standard Deviation:\", calculate_std(data))\n"
   ]
  },
  {
   "cell_type": "markdown",
   "metadata": {},
   "source": [
    "Exercises: Level 3"
   ]
  },
  {
   "cell_type": "markdown",
   "metadata": {},
   "source": [
    "1. Write a function called is_prime, which checks if a number is prime"
   ]
  },
  {
   "cell_type": "code",
   "execution_count": 1,
   "metadata": {},
   "outputs": [
    {
     "data": {
      "text/plain": [
       "True"
      ]
     },
     "execution_count": 1,
     "metadata": {},
     "output_type": "execute_result"
    }
   ],
   "source": [
    "#Write a function called is_prime, which checks if a number is prime\n",
    "def is_prime(num):                          #Defining the function is_prime\n",
    "    if num > 1:\n",
    "        for i in range(2, num):\n",
    "            if num % i == 0:\n",
    "                return False\n",
    "        return True\n",
    "    return False\n",
    "is_prime(7)\n"
   ]
  },
  {
   "cell_type": "markdown",
   "metadata": {},
   "source": [
    "2. Write a functions which checks if all items are unique in the list."
   ]
  },
  {
   "cell_type": "code",
   "execution_count": 2,
   "metadata": {},
   "outputs": [
    {
     "name": "stdout",
     "output_type": "stream",
     "text": [
      "True\n"
     ]
    }
   ],
   "source": [
    "#Write a functions which checks if all items are unique in the list.\n",
    "def is_unique(lst):                          #Defining the function is_unique\n",
    "    return len(set(lst)) == len(lst)\n",
    "is_unique([1, 2, 3, 4, 5])\n",
    "print(is_unique([1, 2, 3, 4]))\n",
    "\n"
   ]
  },
  {
   "cell_type": "markdown",
   "metadata": {},
   "source": [
    "3. Write a function which checks if all the items of the list are of the same data type."
   ]
  },
  {
   "cell_type": "code",
   "execution_count": 3,
   "metadata": {},
   "outputs": [
    {
     "name": "stdout",
     "output_type": "stream",
     "text": [
      "True\n",
      "False\n",
      "True\n",
      "True\n"
     ]
    }
   ],
   "source": [
    "#Write a function which checks if all the items of the list are of the same data type.\n",
    "def data_type(lst):\n",
    "    if not lst:\n",
    "        return True\n",
    "    first_type = type(lst[0])\n",
    "    return all(isinstance(item, first_type) for item in lst)\n",
    "print(data_type([1, 2, 3, 4]))\n",
    "print(data_type([1, \"two\", 3, 4]))  \n",
    "print(data_type([]))                \n",
    "print(data_type(['a', 'b', 'c'])) "
   ]
  },
  {
   "cell_type": "markdown",
   "metadata": {},
   "source": [
    "4, Write a function which check if provided variable is a valid python variable"
   ]
  },
  {
   "cell_type": "code",
   "execution_count": 4,
   "metadata": {},
   "outputs": [
    {
     "name": "stdout",
     "output_type": "stream",
     "text": [
      "True\n",
      "False\n",
      "True\n",
      "True\n",
      "False\n"
     ]
    }
   ],
   "source": [
    "#Write a function which check if provided variable is a valid python variable\n",
    "def is_valid_variable(var):\n",
    "    return var.isidentifier()\n",
    "print(is_valid_variable(\"hello\"))\n",
    "print(is_valid_variable(\"hello world\"))\n",
    "print(is_valid_variable(\"hello_world\"))\n",
    "print(is_valid_variable(\"helloWorld\"))\n",
    "print(is_valid_variable(\"hello-world\"))"
   ]
  },
  {
   "cell_type": "markdown",
   "metadata": {},
   "source": [
    "List Comprehensions Exercises"
   ]
  },
  {
   "cell_type": "markdown",
   "metadata": {},
   "source": [
    "Exercises: Level 3"
   ]
  },
  {
   "cell_type": "markdown",
   "metadata": {},
   "source": [
    "1. Filter only negative and zero in the list using list comprehension"
   ]
  },
  {
   "cell_type": "code",
   "execution_count": 1,
   "metadata": {},
   "outputs": [
    {
     "data": {
      "text/plain": [
       "[-2, -4]"
      ]
     },
     "execution_count": 1,
     "metadata": {},
     "output_type": "execute_result"
    }
   ],
   "source": [
    "#Filter only negative and zero in the list using list comprehension\n",
    "def filter_neg_zero(lst):\n",
    "    return [i for i in lst if i <= 0]\n",
    "filter_neg_zero([1, -2, 3, -4, 5])\n",
    "\n",
    "\n"
   ]
  },
  {
   "cell_type": "markdown",
   "metadata": {},
   "source": [
    "2. Flatten the following list of lists of lists to a one dimensional list :"
   ]
  },
  {
   "cell_type": "code",
   "execution_count": 2,
   "metadata": {},
   "outputs": [
    {
     "name": "stdout",
     "output_type": "stream",
     "text": [
      "[1, 2, 3, 4, 5, 6, 7, 8, 9]\n"
     ]
    }
   ],
   "source": [
    "#Flatten the following list of lists of lists to a one dimensional list :\n",
    "list_of_lists = [[1, 2, 3], [4, 5, 6], [7, 8, 9]]\n",
    "flattened_list = [i for lst in list_of_lists for i in lst]\n",
    "print(flattened_list)\n",
    "\n"
   ]
  },
  {
   "cell_type": "markdown",
   "metadata": {},
   "source": [
    "3. Using list comprehension create the following list of tuples:"
   ]
  },
  {
   "cell_type": "code",
   "execution_count": 3,
   "metadata": {},
   "outputs": [
    {
     "name": "stdout",
     "output_type": "stream",
     "text": [
      "[(0, 1, 0, 0, 0, 0, 0), (1, 1, 1, 1, 1, 1, 1), (2, 1, 2, 4, 8, 16, 32), (3, 1, 3, 9, 27, 81, 243), (4, 1, 4, 16, 64, 256, 1024), (5, 1, 5, 25, 125, 625, 3125), (6, 1, 6, 36, 216, 1296, 7776), (7, 1, 7, 49, 343, 2401, 16807), (8, 1, 8, 64, 512, 4096, 32768), (9, 1, 9, 81, 729, 6561, 59049), (10, 1, 10, 100, 1000, 10000, 100000)]\n"
     ]
    }
   ],
   "source": [
    "#Using list comprehension create the following list of tuples:\n",
    "''' [(0, 1, 0, 0, 0, 0, 0),\n",
    "    (1, 1, 1, 1, 1, 1, 1),\n",
    "    (2, 1, 2, 4, 8, 16, 32),\n",
    "    (3, 1, 3, 9, 27, 81, 243),\n",
    "    (4, 1, 4, 16, 64, 256, 1024),\n",
    "    (5, 1, 5, 25, 125, 625, 3125),\n",
    "    (6, 1, 6, 36, 216, 1296, 7776),\n",
    "    (7, 1, 7, 49, 343, 2401, 16807),\n",
    "    (8, 1, 8, 64, 512, 4096, 32768),\n",
    "    (9, 1, 9, 81, 729, 6561, 59049),\n",
    "    (10, 1, 10, 100, 1000, 10000, 100000)]'''\n",
    "list_of_tuples = [(i, 1, i, i**2, i**3, i**4, i**5) for i in range(11)]\n",
    "print(list_of_tuples)\n",
    "\n"
   ]
  },
  {
   "cell_type": "markdown",
   "metadata": {},
   "source": [
    "4. Flatten the following list to a new list:"
   ]
  },
  {
   "cell_type": "code",
   "execution_count": 4,
   "metadata": {},
   "outputs": [
    {
     "name": "stdout",
     "output_type": "stream",
     "text": [
      "[('Finland', 'Helsinki'), ('Sweden', 'Stockholm'), ('Norway', 'Oslo')]\n"
     ]
    }
   ],
   "source": [
    "#Flatten the following list to a new list:\n",
    "countries = [[('Finland', 'Helsinki')], [('Sweden', 'Stockholm')], [('Norway', 'Oslo')]]\n",
    "flattened_countries = [item for lst in countries for item in lst]\n",
    "print(flattened_countries)\n"
   ]
  }
 ],
 "metadata": {
  "kernelspec": {
   "display_name": "Python 3",
   "language": "python",
   "name": "python3"
  },
  "language_info": {
   "codemirror_mode": {
    "name": "ipython",
    "version": 3
   },
   "file_extension": ".py",
   "mimetype": "text/x-python",
   "name": "python",
   "nbconvert_exporter": "python",
   "pygments_lexer": "ipython3",
   "version": "3.13.0"
  }
 },
 "nbformat": 4,
 "nbformat_minor": 2
}
