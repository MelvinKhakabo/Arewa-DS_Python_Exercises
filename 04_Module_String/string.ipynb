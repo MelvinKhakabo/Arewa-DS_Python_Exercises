{
 "cells": [
  {
   "cell_type": "markdown",
   "metadata": {},
   "source": [
    "# Day 4: 30 Days of python programming\n",
    "\n",
    "Exercises - Module 4"
   ]
  },
  {
   "cell_type": "markdown",
   "metadata": {},
   "source": [
    "1. Concatenate the string 'Thirty', 'Days', 'Of', 'Python' to a single string, 'Thirty Days Of Python'."
   ]
  },
  {
   "cell_type": "code",
   "execution_count": 2,
   "metadata": {},
   "outputs": [
    {
     "name": "stdout",
     "output_type": "stream",
     "text": [
      "Thirty Days Of Python\n"
     ]
    }
   ],
   "source": [
    "#Concatenate the string 'Thirty', 'Days', 'Of', 'Python' to a single string, 'Thirty Days Of Python'.\n",
    "first_string = 'Thirty'\n",
    "second_string = 'Days'\n",
    "third_string = 'Of'\n",
    "fourth_string = 'Python'\n",
    "concatenated_string = first_string + ' ' + second_string + ' ' + third_string + ' ' + fourth_string\n",
    "print(concatenated_string)"
   ]
  },
  {
   "cell_type": "markdown",
   "metadata": {},
   "source": [
    "2. Concatenate the string 'Coding', 'For' , 'All' to a single string, 'Coding For All'."
   ]
  },
  {
   "cell_type": "code",
   "execution_count": 6,
   "metadata": {},
   "outputs": [
    {
     "name": "stdout",
     "output_type": "stream",
     "text": [
      "Coding For All\n"
     ]
    }
   ],
   "source": [
    "#Concatenate the string 'Coding', 'For' , 'All' to a single string, 'Coding For All'.\n",
    "first_string = 'Coding'\n",
    "second_string = 'For'\n",
    "third_string = 'All'\n",
    "concatenated_string = first_string + ' ' + second_string + ' ' + third_string\n",
    "print(concatenated_string)"
   ]
  },
  {
   "cell_type": "markdown",
   "metadata": {},
   "source": [
    "3. Declare a variable named company and assign it to an initial value \"Coding For All\"."
   ]
  },
  {
   "cell_type": "code",
   "execution_count": 7,
   "metadata": {},
   "outputs": [],
   "source": [
    "#Declare a variable named company and assign it to an initial value \"Coding For All\".\n",
    "company = \"Coding For All\"\n",
    "\n"
   ]
  },
  {
   "cell_type": "markdown",
   "metadata": {},
   "source": [
    "4. Print the variable company using print()."
   ]
  },
  {
   "cell_type": "code",
   "execution_count": 5,
   "metadata": {},
   "outputs": [
    {
     "name": "stdout",
     "output_type": "stream",
     "text": [
      "Coding For All\n"
     ]
    }
   ],
   "source": [
    "#Print the variable company using print().\n",
    "print(company)"
   ]
  },
  {
   "cell_type": "markdown",
   "metadata": {},
   "source": [
    "5. Print the length of the company string using len() method and print()."
   ]
  },
  {
   "cell_type": "code",
   "execution_count": 6,
   "metadata": {},
   "outputs": [
    {
     "name": "stdout",
     "output_type": "stream",
     "text": [
      "14\n"
     ]
    }
   ],
   "source": [
    "#Print the length of the company string using len() method and print().\n",
    "print(len(company))"
   ]
  },
  {
   "cell_type": "markdown",
   "metadata": {},
   "source": [
    "6. Change all the characters to uppercase letters using upper() method."
   ]
  },
  {
   "cell_type": "code",
   "execution_count": 7,
   "metadata": {},
   "outputs": [
    {
     "name": "stdout",
     "output_type": "stream",
     "text": [
      "CODING FOR ALL\n"
     ]
    }
   ],
   "source": [
    "#Change all the characters to uppercase letters using upper() method.\n",
    "\n",
    "print(company.upper())"
   ]
  },
  {
   "cell_type": "markdown",
   "metadata": {},
   "source": [
    "7. Change all the characters to lowercase letters using lower() method."
   ]
  },
  {
   "cell_type": "code",
   "execution_count": 8,
   "metadata": {},
   "outputs": [
    {
     "name": "stdout",
     "output_type": "stream",
     "text": [
      "coding for all\n"
     ]
    }
   ],
   "source": [
    "#Change all the characters to lowercase letters using lower() method.\n",
    "print(company.lower())"
   ]
  },
  {
   "cell_type": "markdown",
   "metadata": {},
   "source": [
    "8. Use capitalize(), title(), swapcase() methods to format the value of the string Coding For All."
   ]
  },
  {
   "cell_type": "code",
   "execution_count": 9,
   "metadata": {},
   "outputs": [
    {
     "name": "stdout",
     "output_type": "stream",
     "text": [
      "Coding for all\n",
      "Coding For All\n",
      "cODING fOR aLL\n"
     ]
    }
   ],
   "source": [
    "#Use capitalize(), title(), swapcase() methods to format the value of the string Coding For All.\n",
    "print(company.capitalize())\n",
    "print(company.title())\n",
    "print(company.swapcase())"
   ]
  },
  {
   "cell_type": "markdown",
   "metadata": {},
   "source": [
    "9. Cut(slice) out the first word of Coding For All string."
   ]
  },
  {
   "cell_type": "code",
   "execution_count": 10,
   "metadata": {},
   "outputs": [
    {
     "name": "stdout",
     "output_type": "stream",
     "text": [
      "['', ' For All']\n"
     ]
    }
   ],
   "source": [
    "#Cut(slice) out the first word of Coding For All string.\n",
    "print(company.split(\"Coding\"))"
   ]
  },
  {
   "cell_type": "markdown",
   "metadata": {},
   "source": [
    "10. Check if Coding For All string contains a word Coding using the method index, find or other methods."
   ]
  },
  {
   "cell_type": "code",
   "execution_count": 11,
   "metadata": {},
   "outputs": [
    {
     "name": "stdout",
     "output_type": "stream",
     "text": [
      "0\n"
     ]
    }
   ],
   "source": [
    "#Check if Coding For All string contains a word Coding using the method index, find or other methods.\n",
    "\n",
    "print(company.find(\"Coding\"))\n"
   ]
  },
  {
   "cell_type": "markdown",
   "metadata": {},
   "source": [
    "11. Replace the word coding in the string 'Coding For All' to Python."
   ]
  },
  {
   "cell_type": "code",
   "execution_count": 12,
   "metadata": {},
   "outputs": [
    {
     "name": "stdout",
     "output_type": "stream",
     "text": [
      "python For All\n"
     ]
    }
   ],
   "source": [
    "print(company.replace(\"Coding\", \"python\"))"
   ]
  },
  {
   "cell_type": "markdown",
   "metadata": {},
   "source": [
    "12. Change Python for Everyone to Python for All using the replace method or other methods."
   ]
  },
  {
   "cell_type": "code",
   "execution_count": 13,
   "metadata": {},
   "outputs": [
    {
     "name": "stdout",
     "output_type": "stream",
     "text": [
      "Coding For All\n"
     ]
    }
   ],
   "source": [
    "#Change Python for Everyone to Python for All using the replace method or other methods.\n",
    "print(company.replace(\"Everyone\", \"All\"))"
   ]
  },
  {
   "cell_type": "markdown",
   "metadata": {},
   "source": [
    "13. Split the string 'Coding For All' using space as the separator (split()) "
   ]
  },
  {
   "cell_type": "code",
   "execution_count": 14,
   "metadata": {},
   "outputs": [
    {
     "name": "stdout",
     "output_type": "stream",
     "text": [
      "['Coding', 'For', 'All']\n"
     ]
    }
   ],
   "source": [
    "#Split the string 'Coding For All' using space as the separator (split()) \n",
    "\n",
    "print(company.split(\" \"))\n"
   ]
  },
  {
   "cell_type": "markdown",
   "metadata": {},
   "source": [
    "14. \"Facebook, Google, Microsoft, Apple, IBM, Oracle, Amazon\" split the string at the comma."
   ]
  },
  {
   "cell_type": "code",
   "execution_count": 15,
   "metadata": {},
   "outputs": [
    {
     "name": "stdout",
     "output_type": "stream",
     "text": [
      "['Facebook', ' Google', ' Microsoft', ' Apple', ' IBM', ' Oracle', ' Amazon']\n"
     ]
    }
   ],
   "source": [
    "#\"Facebook, Google, Microsoft, Apple, IBM, Oracle, Amazon\" split the string at the comma.\n",
    "\n",
    "companies = \"Facebook, Google, Microsoft, Apple, IBM, Oracle, Amazon\"\n",
    "print(companies.split(\",\"))"
   ]
  },
  {
   "cell_type": "markdown",
   "metadata": {},
   "source": [
    "15. What is the character at index 0 in the string Coding For All."
   ]
  },
  {
   "cell_type": "code",
   "execution_count": 16,
   "metadata": {},
   "outputs": [
    {
     "name": "stdout",
     "output_type": "stream",
     "text": [
      "C\n"
     ]
    }
   ],
   "source": [
    "#What is the character at index 0 in the string Coding For All.\n",
    "\n",
    "print(company[0])"
   ]
  },
  {
   "cell_type": "markdown",
   "metadata": {},
   "source": [
    "16. What is the last index of the string Coding For All."
   ]
  },
  {
   "cell_type": "code",
   "execution_count": 3,
   "metadata": {},
   "outputs": [
    {
     "name": "stdout",
     "output_type": "stream",
     "text": [
      "l\n"
     ]
    }
   ],
   "source": [
    "#What is the last index of the string Coding For All\n",
    "print(company[-1])\n"
   ]
  },
  {
   "cell_type": "markdown",
   "metadata": {},
   "source": [
    "18. Create an acronym or an abbreviation for the name 'Python For Everyone'."
   ]
  },
  {
   "cell_type": "code",
   "execution_count": 1,
   "metadata": {},
   "outputs": [
    {
     "name": "stdout",
     "output_type": "stream",
     "text": [
      "PFr\n"
     ]
    }
   ],
   "source": [
    "#Create an acronym or an abbreviation for the name 'Python For Everyone'.\n",
    "origin = 'Python For Everyone'\n",
    "acronym = origin[0:18:7]\n",
    "print(acronym)  "
   ]
  },
  {
   "cell_type": "markdown",
   "metadata": {},
   "source": [
    "19. Create an acronym or an abbreviation for the name 'Coding For All'."
   ]
  },
  {
   "cell_type": "code",
   "execution_count": 4,
   "metadata": {},
   "outputs": [
    {
     "name": "stdout",
     "output_type": "stream",
     "text": [
      "CF\n"
     ]
    }
   ],
   "source": [
    "#Create an acronym or an abbreviation for the name 'Coding For All'.\n",
    "origin = 'Coding For All'\n",
    "acronym = origin[0:18:7]\n",
    "print(acronym)"
   ]
  },
  {
   "cell_type": "markdown",
   "metadata": {},
   "source": [
    "20. Use index to determine the position of the first occurrence of C in Coding For All."
   ]
  },
  {
   "cell_type": "code",
   "execution_count": 5,
   "metadata": {},
   "outputs": [
    {
     "name": "stdout",
     "output_type": "stream",
     "text": [
      "0\n"
     ]
    }
   ],
   "source": [
    "#Use index to determine the position of the first occurrence of C in Coding For All.\n",
    "print(origin.find(\"C\"))"
   ]
  },
  {
   "cell_type": "markdown",
   "metadata": {},
   "source": [
    "21. Use index to determine the position of the first occurrence of F in Coding For All."
   ]
  },
  {
   "cell_type": "code",
   "execution_count": 6,
   "metadata": {},
   "outputs": [
    {
     "name": "stdout",
     "output_type": "stream",
     "text": [
      "7\n"
     ]
    }
   ],
   "source": [
    "#Use index to determine the position of the first occurrence of F in Coding For All.\n",
    "print(origin.find(\"F\"))"
   ]
  },
  {
   "cell_type": "markdown",
   "metadata": {},
   "source": [
    "22. Use rfind to determine the position of the last occurrence of l in Coding For All People."
   ]
  },
  {
   "cell_type": "code",
   "execution_count": 10,
   "metadata": {},
   "outputs": [
    {
     "name": "stdout",
     "output_type": "stream",
     "text": [
      "3\n"
     ]
    }
   ],
   "source": [
    "#Use rfind to determine the position of the last occurrence of l in Coding For All People.\n",
    "\n",
    "print(origin.rfind(\"i\"))"
   ]
  },
  {
   "cell_type": "markdown",
   "metadata": {},
   "source": [
    "23. Use index or find to find the position of the first occurrence of the word 'because' in the following sentence: 'You cannot end a sentence with because because because is a conjunction'"
   ]
  },
  {
   "cell_type": "code",
   "execution_count": 1,
   "metadata": {},
   "outputs": [
    {
     "name": "stdout",
     "output_type": "stream",
     "text": [
      "31\n"
     ]
    }
   ],
   "source": [
    "#Use index or find to find the position of the first occurrence of the word 'because' in the following sentence: 'You cannot end a sentence with because because because is a conjunction'\n",
    "\n",
    "sentence = 'You cannot end a sentence with because because because is a conjunction'\n",
    "print(sentence.find(\"because\"))"
   ]
  },
  {
   "cell_type": "markdown",
   "metadata": {},
   "source": [
    "24. Use rindex to find the position of the last occurrence of the word because in the following sentence: 'You cannot end a sentence with because because because is a conjunction'"
   ]
  },
  {
   "cell_type": "code",
   "execution_count": 2,
   "metadata": {},
   "outputs": [
    {
     "name": "stdout",
     "output_type": "stream",
     "text": [
      "47\n"
     ]
    }
   ],
   "source": [
    "#Use rindex to find the position of the last occurrence of the word because in the following sentence: 'You cannot end a sentence with because because because is a conjunction'\n",
    "\n",
    "sentence = 'You cannot end a sentence with because because because is a conjunction'\n",
    "print(sentence.rfind(\"because\"))"
   ]
  },
  {
   "cell_type": "markdown",
   "metadata": {},
   "source": [
    "25. Slice out the phrase 'because because because' in the following sentence: 'You cannot end a sentence with because because because is a conjunction'"
   ]
  },
  {
   "cell_type": "code",
   "execution_count": 3,
   "metadata": {},
   "outputs": [
    {
     "name": "stdout",
     "output_type": "stream",
     "text": [
      "ause because is a conjuncti\n"
     ]
    }
   ],
   "source": [
    "#Slice out the phrase 'because because because' in the following sentence: 'You cannot end a sentence with because because because is a conjunction'\n",
    "\n",
    "sentence = 'You cannot end a sentence with because because because is a conjunction'\n",
    "print(sentence[42:69])"
   ]
  },
  {
   "cell_type": "markdown",
   "metadata": {},
   "source": [
    "26. Find the position of the first occurrence of the word 'because' in the following sentence: 'You cannot end a sentence with because because because is a conjunction'"
   ]
  },
  {
   "cell_type": "code",
   "execution_count": 4,
   "metadata": {},
   "outputs": [
    {
     "name": "stdout",
     "output_type": "stream",
     "text": [
      "31\n"
     ]
    }
   ],
   "source": [
    "#Find the position of the first occurrence of the word 'because' in the following sentence: 'You cannot end a sentence with because because because is a conjunction'\n",
    "\n",
    "sentence = 'You cannot end a sentence with because because because is a conjunction'\n",
    "print(sentence.find(\"because\"))"
   ]
  },
  {
   "cell_type": "markdown",
   "metadata": {},
   "source": [
    "27. Slice out the phrase 'because because because' in the following sentence: 'You cannot end a sentence with because because because is a conjunction'"
   ]
  },
  {
   "cell_type": "code",
   "execution_count": 5,
   "metadata": {},
   "outputs": [
    {
     "name": "stdout",
     "output_type": "stream",
     "text": [
      "ause because is a conjuncti\n"
     ]
    }
   ],
   "source": [
    "#Slice out the phrase 'because because because' in the following sentence: 'You cannot end a sentence with because because because is a conjunction'\n",
    "\n",
    "sentence = 'You cannot end a sentence with because because because is a conjunction'\n",
    "print(sentence[42:69])"
   ]
  },
  {
   "cell_type": "markdown",
   "metadata": {},
   "source": [
    "28. Does ''Coding For All' start with a substring Coding?"
   ]
  },
  {
   "cell_type": "code",
   "execution_count": 8,
   "metadata": {},
   "outputs": [
    {
     "name": "stdout",
     "output_type": "stream",
     "text": [
      "True\n"
     ]
    }
   ],
   "source": [
    "#Does ''Coding For All' start with a substring Coding?\n",
    "\n",
    "print(company.startswith(\"Coding\"))"
   ]
  },
  {
   "cell_type": "markdown",
   "metadata": {},
   "source": [
    "29. Does 'Coding For All' end with a substring coding?"
   ]
  },
  {
   "cell_type": "code",
   "execution_count": 9,
   "metadata": {},
   "outputs": [
    {
     "name": "stdout",
     "output_type": "stream",
     "text": [
      "False\n"
     ]
    }
   ],
   "source": [
    "#Does 'Coding For All' end with a substring coding?\n",
    "\n",
    "print(company.endswith(\"coding\"))"
   ]
  },
  {
   "cell_type": "markdown",
   "metadata": {},
   "source": [
    "30. ' Coding For All ' , remove the left and right trailing spaces in the given string."
   ]
  },
  {
   "cell_type": "code",
   "execution_count": 10,
   "metadata": {},
   "outputs": [
    {
     "name": "stdout",
     "output_type": "stream",
     "text": [
      "Coding For All\n"
     ]
    }
   ],
   "source": [
    "#' Coding For All ' , remove the left and right trailing spaces in the given string.\n",
    "\n",
    "print(company.strip())"
   ]
  },
  {
   "cell_type": "markdown",
   "metadata": {},
   "source": [
    "31. Which one of the following variables return True when we use the method isidentifier():\n",
    "30DaysOfPython\n",
    "\n",
    "thirty_days_of_python"
   ]
  },
  {
   "cell_type": "code",
   "execution_count": 11,
   "metadata": {},
   "outputs": [
    {
     "name": "stdout",
     "output_type": "stream",
     "text": [
      "False\n",
      "True\n"
     ]
    }
   ],
   "source": [
    "\n",
    "thirty_numeric = '30DaysOf python'\n",
    "thirty_alpha = 'thirty_days_of_python'\n",
    "\n",
    "print(thirty_numeric.isidentifier())        \n",
    "\n",
    "print(thirty_alpha.isidentifier()) "
   ]
  },
  {
   "cell_type": "markdown",
   "metadata": {},
   "source": [
    "32. The following list contains the names of some of python libraries: ['Django', 'Flask', 'Bottle', 'Pyramid', 'Falcon']. Join the list with a hash with space string."
   ]
  },
  {
   "cell_type": "code",
   "execution_count": 1,
   "metadata": {},
   "outputs": [
    {
     "name": "stdout",
     "output_type": "stream",
     "text": [
      "Django# Flask# Bottle# Pyrammid# Falcon\n"
     ]
    }
   ],
   "source": [
    "#The following list contains the names of some of python libraries: ['Django', 'Flask', 'Bottle', 'Pyramid', 'Falcon']. Join the list with a hash with space string.\n",
    "python_libraries = ['Django', 'Flask', 'Bottle', 'Pyrammid', 'Falcon']\n",
    "joint_libraries = \"# \".join(python_libraries)\n",
    "print(joint_libraries)"
   ]
  },
  {
   "cell_type": "markdown",
   "metadata": {},
   "source": [
    "33. Use the new line escape sequence to separate the following sentences.\n",
    "I am enjoying this challenge.\n",
    "\n",
    "I just wonder what is next."
   ]
  },
  {
   "cell_type": "code",
   "execution_count": 2,
   "metadata": {},
   "outputs": [
    {
     "name": "stdout",
     "output_type": "stream",
     "text": [
      "I am enjoying this challenge.\n",
      "I just womder what is next\n"
     ]
    }
   ],
   "source": [
    "#Use the new line escape sequence to separate the following sentences.\n",
    "#I am enjoying this challenge.\n",
    "#I just wonder what is next.\n",
    "print('I am enjoying this challenge.\\nI just womder what is next' )"
   ]
  },
  {
   "cell_type": "markdown",
   "metadata": {},
   "source": [
    "34. Use a tab escape sequence to write the following lines.\n",
    "Name Age Country City\n",
    "\n",
    "Asabeneh 250 Finland Helsinki"
   ]
  },
  {
   "cell_type": "code",
   "execution_count": 3,
   "metadata": {},
   "outputs": [
    {
     "name": "stdout",
     "output_type": "stream",
     "text": [
      "Name\tAge\tCountry\tCity\n",
      "Asabenah\t250\tFinland\tHelsinki\n"
     ]
    }
   ],
   "source": [
    "#Use a tab escape sequence to write the following lines.\n",
    "#Name Age Country City\n",
    "\n",
    "#Asabeneh 250 Finland Helsinki\n",
    "print('Name\\tAge\\tCountry\\tCity')\n",
    "print('Asabenah\\t250\\tFinland\\tHelsinki')"
   ]
  },
  {
   "cell_type": "markdown",
   "metadata": {},
   "source": [
    "35. Use the string formatting method to display the following:\n",
    "radius = 10\n",
    "\n",
    "area = 3.14 * radius ** 2\n",
    "\n",
    "The area of a circle with radius 10 is equals to 314 meters square."
   ]
  },
  {
   "cell_type": "code",
   "execution_count": 4,
   "metadata": {},
   "outputs": [
    {
     "name": "stdout",
     "output_type": "stream",
     "text": [
      "The area of a circle with radius 10 is 314 meters square\n"
     ]
    }
   ],
   "source": [
    "radius = 10\n",
    "\n",
    "area = 3.14 * radius **2\n",
    "area_string = 'The area of a circle with radius %d is %d meters square'%(radius, area)\n",
    "print(area_string)"
   ]
  },
  {
   "cell_type": "markdown",
   "metadata": {},
   "source": [
    "36. Make the following using string formatting methods:\n",
    "8 + 6 = 14\n",
    "\n",
    "8 - 6 = 2\n",
    "\n",
    "8 * 6 = 48\n",
    "\n",
    "8 / 6 = 1.33\n",
    "\n",
    "8 % 6 = 2\n",
    "\n",
    "8 // 6 = 1\n",
    "\n",
    "8 ** 6 = 262144"
   ]
  },
  {
   "cell_type": "code",
   "execution_count": 5,
   "metadata": {},
   "outputs": [
    {
     "name": "stdout",
     "output_type": "stream",
     "text": [
      "8 + 6 = 14\n",
      "8 - 6 = 2\n",
      "8 * 6 = 48\n",
      "8 / 6 = 1.3333333333333333\n",
      "8 % 6 = 2\n",
      "8 // 6 = 1\n",
      "8 ** 6 = 262144\n"
     ]
    }
   ],
   "source": [
    "num_1 = 8\n",
    "num_2 = 6\n",
    "print('{} + {} = {}'.format(num_1 ,num_2 , num_1+num_2))        # addition\n",
    "print('{} - {} = {}'.format(num_1 ,num_2 , num_1-num_2))        # Subtraction\n",
    "print('{} * {} = {}'.format(num_1 ,num_2 , num_1*num_2))        # Multiplication\n",
    "print('{} / {} = {}'.format(num_1 ,num_2 , num_1/num_2))        # Division\n",
    "print('{} % {} = {}'.format(num_1 ,num_2 , num_1%num_2))        # Modulus\n",
    "print('{} // {} = {}'.format(num_1 ,num_2 , num_1//num_2))      # Remainder\n",
    "print('{} ** {} = {}'.format(num_1 ,num_2 , num_1**num_2))      # Exponential"
   ]
  }
 ],
 "metadata": {
  "kernelspec": {
   "display_name": "Python 3",
   "language": "python",
   "name": "python3"
  },
  "language_info": {
   "codemirror_mode": {
    "name": "ipython",
    "version": 3
   },
   "file_extension": ".py",
   "mimetype": "text/x-python",
   "name": "python",
   "nbconvert_exporter": "python",
   "pygments_lexer": "ipython3",
   "version": "3.13.0"
  }
 },
 "nbformat": 4,
 "nbformat_minor": 2
}
