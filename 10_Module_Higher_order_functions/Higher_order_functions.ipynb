{
 "cells": [
  {
   "cell_type": "markdown",
   "metadata": {},
   "source": [
    "# Day 10: 30 Days of python programming"
   ]
  },
  {
   "cell_type": "markdown",
   "metadata": {},
   "source": [
    "## 💻 Exercises - Module 10 Higher order Functions"
   ]
  },
  {
   "cell_type": "markdown",
   "metadata": {},
   "source": [
    "Exercises: Level 1"
   ]
  },
  {
   "cell_type": "code",
   "execution_count": null,
   "metadata": {},
   "outputs": [],
   "source": [
    "'''countries = ['Estonia', 'Finland', 'Sweden', 'Denmark', 'Norway', 'Iceland']\n",
    "names = ['Asabeneh', 'Lidiya', 'Ermias', 'Abraham']\n",
    "numbers = [1, 2, 3, 4, 5, 6, 7, 8, 9, 10]'''"
   ]
  }
 ],
 "metadata": {
  "kernelspec": {
   "display_name": "Python 3",
   "language": "python",
   "name": "python3"
  },
  "language_info": {
   "name": "python",
   "version": "3.13.0"
  }
 },
 "nbformat": 4,
 "nbformat_minor": 2
}
