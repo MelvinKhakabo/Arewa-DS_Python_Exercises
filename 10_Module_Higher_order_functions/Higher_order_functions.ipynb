{
 "cells": [
  {
   "cell_type": "markdown",
   "metadata": {},
   "source": [
    "# Day 10: 30 Days of python programming"
   ]
  },
  {
   "cell_type": "markdown",
   "metadata": {},
   "source": [
    "## 💻 Exercises - Module 10 Higher order Functions"
   ]
  },
  {
   "cell_type": "markdown",
   "metadata": {},
   "source": [
    "Exercises: Level 1"
   ]
  },
  {
   "cell_type": "code",
   "execution_count": null,
   "metadata": {},
   "outputs": [],
   "source": [
    "'''countries = ['Estonia', 'Finland', 'Sweden', 'Denmark', 'Norway', 'Iceland']\n",
    "names = ['Asabeneh', 'Lidiya', 'Ermias', 'Abraham']\n",
    "numbers = [1, 2, 3, 4, 5, 6, 7, 8, 9, 10]'''"
   ]
  },
  {
   "cell_type": "markdown",
   "metadata": {},
   "source": [
    "1.Explain the difference between map, filter, and reduce."
   ]
  },
  {
   "cell_type": "code",
   "execution_count": null,
   "metadata": {},
   "outputs": [],
   "source": [
    "''' - Map() is a funtion that takes a funtion and iterablea as parameters with syntanx map(funtion, iterable)\n",
    "- Filter() is that calls the specified function which returns boolean for each item of teh specified iterable list with the syntax filter(function, iterable)\n",
    "- Reduce() is a function that is defined in the funtools module it's like map and filter which takes two parameters, a function and iterable However, it doesn't return another iterable, insteaf it returns a single value.'''"
   ]
  },
  {
   "cell_type": "markdown",
   "metadata": {},
   "source": [
    "2. Explain the difference between higher order function, closure and decorator\n",
    "'''\n",
    "\n",
    "Higher order function have some function that includes map(), filter() and filter().\n",
    "Decorator is a design pattern in python that allows a user to add new funtionality to an existing object without modifying its strructure. Decorators are usually called before the definition of a function you want to decorate.\n",
    "Closure is allowing the nested functio to access the outer scope of teh enclosing function.'''"
   ]
  }
 ],
 "metadata": {
  "kernelspec": {
   "display_name": "Python 3",
   "language": "python",
   "name": "python3"
  },
  "language_info": {
   "name": "python",
   "version": "3.13.0"
  }
 },
 "nbformat": 4,
 "nbformat_minor": 2
}
