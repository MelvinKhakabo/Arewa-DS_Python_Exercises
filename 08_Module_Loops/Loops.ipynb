{
 "cells": [
  {
   "cell_type": "markdown",
   "metadata": {},
   "source": [
    "# Day 8: 30 Days of python programming"
   ]
  },
  {
   "cell_type": "markdown",
   "metadata": {},
   "source": [
    "## Exercises - Module 8 Condition\n"
   ]
  },
  {
   "cell_type": "markdown",
   "metadata": {},
   "source": [
    "### Exercises: Level 1\n",
    "\n",
    "\n"
   ]
  },
  {
   "cell_type": "markdown",
   "metadata": {},
   "source": [
    "1. Iterate 0 to 10 using for loop, do the same using while loop."
   ]
  },
  {
   "cell_type": "code",
   "execution_count": 7,
   "metadata": {},
   "outputs": [
    {
     "name": "stdout",
     "output_type": "stream",
     "text": [
      "Using a for loop method\n",
      "0\n",
      "1\n",
      "2\n",
      "3\n",
      "4\n",
      "5\n",
      "6\n",
      "7\n",
      "8\n",
      "9\n",
      "10\n",
      "\n",
      "Using a while loop\n",
      "0\n",
      "1\n",
      "2\n",
      "3\n",
      "4\n",
      "5\n",
      "6\n",
      "7\n",
      "8\n",
      "9\n",
      "10\n"
     ]
    }
   ],
   "source": [
    "#Iterate 0 to 10 using for loop, do the same using while loop.\n",
    "# For for loop\n",
    "print('Using a for loop method')\n",
    "for i in range(11):\n",
    "    print(i)\n",
    "\n",
    "\n",
    "\n",
    "#For while loop\n",
    "print('\\nUsing a while loop')\n",
    "i = 0\n",
    "while i <= 10:\n",
    "    print(i)\n",
    "    i += 1"
   ]
  },
  {
   "cell_type": "markdown",
   "metadata": {},
   "source": [
    "2. Iterate 10 to 0 using for loop, do the same using while loop."
   ]
  },
  {
   "cell_type": "code",
   "execution_count": 8,
   "metadata": {},
   "outputs": [
    {
     "name": "stdout",
     "output_type": "stream",
     "text": [
      "Uisng for loop\n",
      "10\n",
      "9\n",
      "8\n",
      "7\n",
      "6\n",
      "5\n",
      "4\n",
      "3\n",
      "2\n",
      "1\n",
      "0\n",
      "\n",
      "Using a while loop\n",
      "10\n",
      "9\n",
      "8\n",
      "7\n",
      "6\n",
      "5\n",
      "4\n",
      "3\n",
      "2\n",
      "1\n",
      "0\n"
     ]
    }
   ],
   "source": [
    "#Iterate 10 to 0 using for loop, do the same using while loop.\n",
    "# For for loop\n",
    "print('Uisng for loop')\n",
    "\n",
    "for i in range(10, -1, -1):\n",
    "    print(i)\n",
    "\n",
    "\n",
    "# For while loop\n",
    "print('\\nUsing a while loop')\n",
    "i = 10\n",
    "while i >= 0:\n",
    "    print(i)\n",
    "    i -= 1 "
   ]
  },
  {
   "cell_type": "markdown",
   "metadata": {},
   "source": [
    "3. Write a loop that makes seven calls to print(), so we get on the output the following triangle:"
   ]
  },
  {
   "cell_type": "code",
   "execution_count": 9,
   "metadata": {},
   "outputs": [
    {
     "name": "stdout",
     "output_type": "stream",
     "text": [
      "Using a for loop to output a triangle\n",
      "*\n",
      "**\n",
      "***\n",
      "****\n",
      "*****\n",
      "******\n",
      "*******\n"
     ]
    }
   ],
   "source": [
    "#Write a loop that makes seven calls to print(), so we get on the output the following triangle:\n",
    "print('Using a for loop to output a triangle')\n",
    "for i in range(1,8):\n",
    "    print('*' *i)"
   ]
  },
  {
   "cell_type": "markdown",
   "metadata": {},
   "source": [
    "4. Use nested loops to create the following:"
   ]
  },
  {
   "cell_type": "code",
   "execution_count": 10,
   "metadata": {},
   "outputs": [
    {
     "name": "stdout",
     "output_type": "stream",
     "text": [
      "printing the above block of #\n",
      "#########\n",
      "#########\n",
      "#########\n",
      "#########\n",
      "#########\n",
      "#########\n",
      "#########\n",
      "#########\n",
      "#########\n"
     ]
    }
   ],
   "source": [
    "#Use nested loops to create the following:\n",
    "# # # # # # # #\n",
    "# # # # # # # #\n",
    "# # # # # # # #\n",
    "# # # # # # # #\n",
    "# # # # # # # #\n",
    "# # # # # # # #\n",
    "# # # # # # # #\n",
    "# # # # # # # #\n",
    "\n",
    "print('printing the above block of #')\n",
    "for i in range(9):\n",
    "    print('#' * 9)"
   ]
  },
  {
   "cell_type": "markdown",
   "metadata": {},
   "source": [
    "5. Print the following pattern:"
   ]
  },
  {
   "cell_type": "code",
   "execution_count": 11,
   "metadata": {},
   "outputs": [
    {
     "name": "stdout",
     "output_type": "stream",
     "text": [
      "Printing the above multiple numbers\n",
      "0 * 0 = 0\n",
      "1 * 1 = 1\n",
      "2 * 2 = 2\n",
      "3 * 3 = 3\n",
      "4 * 4 = 4\n",
      "5 * 5 = 5\n",
      "6 * 6 = 6\n",
      "7 * 7 = 7\n",
      "8 * 8 = 8\n",
      "9 * 9 = 9\n",
      "10 * 10 = 10\n"
     ]
    }
   ],
   "source": [
    " #Print the following pattern:\n",
    "''' 0 x 0 = 0\n",
    "1 x 1 = 1\n",
    "2 x 2 = 4\n",
    "3 x 3 = 9\n",
    "4 x 4 = 16\n",
    "5 x 5 = 25\n",
    "6 x 6 = 36\n",
    "7 x 7 = 49\n",
    "8 x 8 = 64\n",
    "9 x 9 = 81\n",
    "10 x 10 = 100 \n",
    "'''\n",
    "print('Printing the above multiple numbers')\n",
    "for i in range(11):\n",
    "    print(f\"{i} * {i} = {i}\")"
   ]
  }
 ],
 "metadata": {
  "kernelspec": {
   "display_name": "Python 3",
   "language": "python",
   "name": "python3"
  },
  "language_info": {
   "codemirror_mode": {
    "name": "ipython",
    "version": 3
   },
   "file_extension": ".py",
   "mimetype": "text/x-python",
   "name": "python",
   "nbconvert_exporter": "python",
   "pygments_lexer": "ipython3",
   "version": "3.13.0"
  }
 },
 "nbformat": 4,
 "nbformat_minor": 2
}
