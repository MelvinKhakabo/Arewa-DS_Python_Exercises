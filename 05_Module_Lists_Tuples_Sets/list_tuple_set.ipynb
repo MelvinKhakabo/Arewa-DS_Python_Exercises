{
 "cells": [
  {
   "cell_type": "markdown",
   "metadata": {},
   "source": [
    "# Day 5: 30 Days of python\n",
    "\n",
    "## Exercises: Module 5\n"
   ]
  },
  {
   "cell_type": "markdown",
   "metadata": {},
   "source": [
    "1. Declare an empty list"
   ]
  },
  {
   "cell_type": "code",
   "execution_count": 2,
   "metadata": {},
   "outputs": [
    {
     "data": {
      "text/plain": [
       "<function print(*args, sep=' ', end='\\n', file=None, flush=False)>"
      ]
     },
     "execution_count": 2,
     "metadata": {},
     "output_type": "execute_result"
    }
   ],
   "source": [
    "#Declare an empty list\n",
    "empty_list = []\n",
    "print\n"
   ]
  },
  {
   "cell_type": "markdown",
   "metadata": {},
   "source": [
    "2. Declare a list with more than 5 items"
   ]
  },
  {
   "cell_type": "code",
   "execution_count": 3,
   "metadata": {},
   "outputs": [
    {
     "data": {
      "text/plain": [
       "<function print(*args, sep=' ', end='\\n', file=None, flush=False)>"
      ]
     },
     "execution_count": 3,
     "metadata": {},
     "output_type": "execute_result"
    }
   ],
   "source": [
    "#Declare a list with more than 5 items\n",
    "my_list = [1, 2, 3, 4, 5]\n",
    "print\n"
   ]
  },
  {
   "cell_type": "markdown",
   "metadata": {},
   "source": [
    "3. Find the length of your list"
   ]
  },
  {
   "cell_type": "code",
   "execution_count": 4,
   "metadata": {},
   "outputs": [
    {
     "name": "stdout",
     "output_type": "stream",
     "text": [
      "5\n"
     ]
    }
   ],
   "source": [
    "#Find the length of your list\n",
    "print(len(my_list))"
   ]
  },
  {
   "cell_type": "markdown",
   "metadata": {},
   "source": [
    "4. Get the first item, the middle item and the last item of the list"
   ]
  },
  {
   "cell_type": "code",
   "execution_count": 5,
   "metadata": {},
   "outputs": [
    {
     "name": "stdout",
     "output_type": "stream",
     "text": [
      "1\n",
      "4\n",
      "5\n",
      "5\n"
     ]
    }
   ],
   "source": [
    "#Get the first item, the middle item and the last item of the list\n",
    "print(my_list[0])\n",
    "print(my_list[3])\n",
    "print(my_list[4])\n",
    "print(my_list[-1])\n"
   ]
  },
  {
   "cell_type": "markdown",
   "metadata": {},
   "source": [
    "5. Declare a list called mixed_data_types, put your(name, age, height, marital status, address)"
   ]
  },
  {
   "cell_type": "code",
   "execution_count": 1,
   "metadata": {},
   "outputs": [
    {
     "name": "stdout",
     "output_type": "stream",
     "text": [
      "['Melvin', 24, 1.65, 'Single', 'Lagos']\n"
     ]
    }
   ],
   "source": [
    "#Declare a list called mixed_data_types, put your(name, age, height, marital status, address)\n",
    "\n",
    "mixed_data_types = ['Melvin', 24, 1.65, 'Single', 'Lagos']\n",
    "print(mixed_data_types)"
   ]
  },
  {
   "cell_type": "markdown",
   "metadata": {},
   "source": [
    "6. Declare a list variable named it_companies and assign initial values Facebook, Google, Microsoft, Apple, IBM, Oracle and Amazon."
   ]
  },
  {
   "cell_type": "code",
   "execution_count": 2,
   "metadata": {},
   "outputs": [],
   "source": [
    "#Declare a list variable named it_companies and assign initial values Facebook, Google, Microsoft, Apple, IBM, Oracle and Amazon.\n",
    "it_company = ['facebook', 'Google', 'Microsoft', 'Apple', 'IBM', 'Oracle', 'Amazon']\n"
   ]
  },
  {
   "cell_type": "markdown",
   "metadata": {},
   "source": [
    "7. Print the list using print()"
   ]
  },
  {
   "cell_type": "code",
   "execution_count": 3,
   "metadata": {},
   "outputs": [
    {
     "name": "stdout",
     "output_type": "stream",
     "text": [
      "['facebook', 'Google', 'Microsoft', 'Apple', 'IBM', 'Oracle', 'Amazon']\n"
     ]
    }
   ],
   "source": [
    "#Print the list using print()\n",
    "print(it_company)"
   ]
  },
  {
   "cell_type": "markdown",
   "metadata": {},
   "source": [
    "8. Print the list using print()"
   ]
  },
  {
   "cell_type": "code",
   "execution_count": 4,
   "metadata": {},
   "outputs": [
    {
     "name": "stdout",
     "output_type": "stream",
     "text": [
      "['facebook', 'Google', 'Microsoft', 'Apple', 'IBM', 'Oracle', 'Amazon']\n"
     ]
    }
   ],
   "source": [
    "print(it_company)"
   ]
  },
  {
   "cell_type": "markdown",
   "metadata": {},
   "source": [
    "9. Print the first, middle and last company"
   ]
  },
  {
   "cell_type": "code",
   "execution_count": 5,
   "metadata": {},
   "outputs": [
    {
     "name": "stdout",
     "output_type": "stream",
     "text": [
      "facebook\n",
      "Apple\n",
      "Amazon\n"
     ]
    }
   ],
   "source": [
    "#Print the first, middle and last company\n",
    "print(it_company[0])\n",
    "print(it_company[3])\n",
    "print(it_company[-1])"
   ]
  },
  {
   "cell_type": "markdown",
   "metadata": {},
   "source": [
    "10. Print the list after modifying one of the companies"
   ]
  },
  {
   "cell_type": "code",
   "execution_count": 7,
   "metadata": {},
   "outputs": [
    {
     "name": "stdout",
     "output_type": "stream",
     "text": [
      "['facebook', 'Google', 'Microsoft', 'Apple', 'Twitter', 'Oracle', 'Amazon']\n"
     ]
    }
   ],
   "source": [
    "#Print the list after modifying one of the companies\n",
    "it_company[-3] = 'Twitter'\n",
    "print(it_company)\n"
   ]
  },
  {
   "cell_type": "markdown",
   "metadata": {},
   "source": [
    "11. Add an IT company to it_companies"
   ]
  },
  {
   "cell_type": "code",
   "execution_count": 8,
   "metadata": {},
   "outputs": [
    {
     "name": "stdout",
     "output_type": "stream",
     "text": [
      "['facebook', 'Google', 'Microsoft', 'Apple', 'Twitter', 'Oracle', 'Amazon', 'OpenAI']\n"
     ]
    }
   ],
   "source": [
    "#Add an IT company to it_companies\n",
    "it_company.append('OpenAI')\n",
    "print(it_company)"
   ]
  },
  {
   "cell_type": "markdown",
   "metadata": {},
   "source": [
    "12. Insert an IT company in the middle of the companies list"
   ]
  },
  {
   "cell_type": "code",
   "execution_count": 9,
   "metadata": {},
   "outputs": [
    {
     "name": "stdout",
     "output_type": "stream",
     "text": [
      "['facebook', 'Google', 'Microsoft', 'Tesla', 'Apple', 'Twitter', 'Oracle', 'Amazon', 'OpenAI']\n"
     ]
    }
   ],
   "source": [
    "#Insert an IT company in the middle of the companies list\n",
    "it_company.insert(3, 'Tesla')\n",
    "print(it_company)"
   ]
  },
  {
   "cell_type": "markdown",
   "metadata": {},
   "source": [
    "13. Change one of the it_companies names to uppercase (IBM excluded!)"
   ]
  },
  {
   "cell_type": "code",
   "execution_count": null,
   "metadata": {},
   "outputs": [],
   "source": [
    "#Change one of the it_companies names to uppercase (IBM excluded!)\n"
   ]
  },
  {
   "cell_type": "markdown",
   "metadata": {},
   "source": [
    "14. Join the it_companies with a string '#; '"
   ]
  },
  {
   "cell_type": "code",
   "execution_count": 10,
   "metadata": {},
   "outputs": [
    {
     "name": "stdout",
     "output_type": "stream",
     "text": [
      "facebook#.Google#.Microsoft#.Tesla#.Apple#.Twitter#.Oracle#.Amazon#.OpenAI\n"
     ]
    }
   ],
   "source": [
    "#Join the it_companies with a string '#; '\n",
    "joined_it_companies = '#.'.join(it_company)\n",
    "print(joined_it_companies)\n"
   ]
  },
  {
   "cell_type": "markdown",
   "metadata": {},
   "source": [
    "15. Check if a certain company exists in the it_companies list."
   ]
  },
  {
   "cell_type": "code",
   "execution_count": 11,
   "metadata": {},
   "outputs": [
    {
     "name": "stdout",
     "output_type": "stream",
     "text": [
      "True\n",
      "False\n"
     ]
    }
   ],
   "source": [
    "#Check if a certain company exists in the it_companies list.\n",
    "print('Twitter' in it_company)\n",
    "print('Facebook' in it_company)"
   ]
  },
  {
   "cell_type": "markdown",
   "metadata": {},
   "source": [
    "16. Sort the list using sort() method"
   ]
  },
  {
   "cell_type": "code",
   "execution_count": 12,
   "metadata": {},
   "outputs": [
    {
     "name": "stdout",
     "output_type": "stream",
     "text": [
      "['Amazon', 'Apple', 'Google', 'Microsoft', 'OpenAI', 'Oracle', 'Tesla', 'Twitter', 'facebook']\n"
     ]
    }
   ],
   "source": [
    "#Sort the list using sort() method\n",
    "it_company.sort()\n",
    "print(it_company)"
   ]
  },
  {
   "cell_type": "markdown",
   "metadata": {},
   "source": [
    "17.Reverse the list in descending order using reverse() method"
   ]
  },
  {
   "cell_type": "code",
   "execution_count": 13,
   "metadata": {},
   "outputs": [
    {
     "name": "stdout",
     "output_type": "stream",
     "text": [
      "['facebook', 'Twitter', 'Tesla', 'Oracle', 'OpenAI', 'Microsoft', 'Google', 'Apple', 'Amazon']\n"
     ]
    }
   ],
   "source": [
    "#Reverse the list in descending order using reverse() method\n",
    "it_company.reverse()\n",
    "print(it_company)"
   ]
  },
  {
   "cell_type": "markdown",
   "metadata": {},
   "source": [
    "18. Slice out the first 3 companies from the list"
   ]
  },
  {
   "cell_type": "code",
   "execution_count": 14,
   "metadata": {},
   "outputs": [
    {
     "name": "stdout",
     "output_type": "stream",
     "text": [
      "['facebook', 'Twitter', 'Tesla']\n"
     ]
    }
   ],
   "source": [
    "#Slice out the first 3 companies from the list\n",
    "it_company = it_company[0:3]\n",
    "print(it_company)"
   ]
  },
  {
   "cell_type": "markdown",
   "metadata": {},
   "source": [
    "19. Slice out the last 3 companies from the list"
   ]
  },
  {
   "cell_type": "code",
   "execution_count": 15,
   "metadata": {},
   "outputs": [
    {
     "name": "stdout",
     "output_type": "stream",
     "text": [
      "['facebook', 'Twitter', 'Tesla']\n"
     ]
    }
   ],
   "source": [
    "#Slice out the last 3 companies from the list\n",
    "it_company = it_company[-3:]\n",
    "print(it_company)"
   ]
  },
  {
   "cell_type": "markdown",
   "metadata": {},
   "source": [
    "20. Slice out the middle IT company or companies from the list"
   ]
  },
  {
   "cell_type": "code",
   "execution_count": 16,
   "metadata": {},
   "outputs": [
    {
     "name": "stdout",
     "output_type": "stream",
     "text": [
      "['Twitter']\n"
     ]
    }
   ],
   "source": [
    "#Slice out the middle IT company or companies from the list\n",
    "it_company = it_company[1:-1]\n",
    "print(it_company)"
   ]
  },
  {
   "cell_type": "markdown",
   "metadata": {},
   "source": [
    "21. Remove the first IT company from the list"
   ]
  },
  {
   "cell_type": "code",
   "execution_count": 20,
   "metadata": {},
   "outputs": [
    {
     "name": "stdout",
     "output_type": "stream",
     "text": [
      "[]\n"
     ]
    }
   ],
   "source": [
    "#Remove the first IT company from the list\n",
    "it_company = it_company[1:]\n",
    "print(it_company)"
   ]
  },
  {
   "cell_type": "markdown",
   "metadata": {},
   "source": [
    "22. Remove the middle IT company or companies from the list"
   ]
  },
  {
   "cell_type": "code",
   "execution_count": 23,
   "metadata": {},
   "outputs": [
    {
     "data": {
      "text/plain": [
       "<function print(*args, sep=' ', end='\\n', file=None, flush=False)>"
      ]
     },
     "execution_count": 23,
     "metadata": {},
     "output_type": "execute_result"
    }
   ],
   "source": [
    "#Remove the middle IT company or companies from the list\n",
    "it_company = it_company[:-1]\n",
    "print"
   ]
  },
  {
   "cell_type": "markdown",
   "metadata": {},
   "source": [
    "23. Remove the last IT company from the list"
   ]
  },
  {
   "cell_type": "code",
   "execution_count": 24,
   "metadata": {},
   "outputs": [
    {
     "name": "stdout",
     "output_type": "stream",
     "text": [
      "[]\n"
     ]
    }
   ],
   "source": [
    "#Remove the last IT company from the list\n",
    "it_company = it_company[:-1]\n",
    "print(it_company)"
   ]
  },
  {
   "cell_type": "markdown",
   "metadata": {},
   "source": [
    "24. Remove all IT companies from the list"
   ]
  },
  {
   "cell_type": "code",
   "execution_count": 25,
   "metadata": {},
   "outputs": [
    {
     "name": "stdout",
     "output_type": "stream",
     "text": [
      "[]\n"
     ]
    }
   ],
   "source": [
    "#Remove all IT companies from the list\n",
    "it_company = []\n",
    "print(it_company)"
   ]
  },
  {
   "cell_type": "markdown",
   "metadata": {},
   "source": [
    "25. Destroy the IT companies list"
   ]
  },
  {
   "cell_type": "code",
   "execution_count": 27,
   "metadata": {},
   "outputs": [
    {
     "ename": "NameError",
     "evalue": "name 'it_company' is not defined",
     "output_type": "error",
     "traceback": [
      "\u001b[1;31m---------------------------------------------------------------------------\u001b[0m",
      "\u001b[1;31mNameError\u001b[0m                                 Traceback (most recent call last)",
      "Cell \u001b[1;32mIn[27], line 2\u001b[0m\n\u001b[0;32m      1\u001b[0m \u001b[38;5;66;03m#Destroy the IT companies list\u001b[39;00m\n\u001b[1;32m----> 2\u001b[0m \u001b[38;5;28;01mdel\u001b[39;00m \u001b[43mit_company\u001b[49m\n",
      "\u001b[1;31mNameError\u001b[0m: name 'it_company' is not defined"
     ]
    }
   ],
   "source": [
    "#Destroy the IT companies list\n",
    "del it_company"
   ]
  },
  {
   "cell_type": "markdown",
   "metadata": {},
   "source": [
    "26. Join the following lists:\n",
    "front_end = ['HTML', 'CSS', 'JS', 'React', 'Redux']\n",
    "\n",
    "back_end = ['Node','Express', 'MongoDB']"
   ]
  },
  {
   "cell_type": "code",
   "execution_count": 28,
   "metadata": {},
   "outputs": [
    {
     "name": "stdout",
     "output_type": "stream",
     "text": [
      "['HTML', 'CSS', 'JS', 'React', 'Redux', 'Node', 'Express', 'MongoDB']\n"
     ]
    }
   ],
   "source": [
    "#Join the following lists:\n",
    "front_end = ['HTML', 'CSS', 'JS', 'React', 'Redux']\n",
    "\n",
    "back_end = ['Node','Express', 'MongoDB']\n",
    "\n",
    "full_stack = front_end + back_end\n",
    "print(full_stack)"
   ]
  },
  {
   "cell_type": "markdown",
   "metadata": {},
   "source": [
    "27. After joining the lists in question 26. Copy the joined list and assign it to a variable full_stack, then insert Python and SQL after Redux."
   ]
  },
  {
   "cell_type": "code",
   "execution_count": 29,
   "metadata": {},
   "outputs": [
    {
     "name": "stdout",
     "output_type": "stream",
     "text": [
      "['HTML', 'CSS', 'JS', 'React', 'Python', 'SQL', 'Redux', 'Node', 'Express', 'MongoDB']\n"
     ]
    }
   ],
   "source": [
    "#After joining the lists in question 26. Copy the joined list and assign it to a variable full_stack, then insert Python and SQL after Redux.\n",
    "\n",
    "full_stack.insert(4, 'Python')\n",
    "full_stack.insert(5, 'SQL')\n",
    "print(full_stack)"
   ]
  }
 ],
 "metadata": {
  "kernelspec": {
   "display_name": "Python 3",
   "language": "python",
   "name": "python3"
  },
  "language_info": {
   "codemirror_mode": {
    "name": "ipython",
    "version": 3
   },
   "file_extension": ".py",
   "mimetype": "text/x-python",
   "name": "python",
   "nbconvert_exporter": "python",
   "pygments_lexer": "ipython3",
   "version": "3.13.0"
  }
 },
 "nbformat": 4,
 "nbformat_minor": 2
}
