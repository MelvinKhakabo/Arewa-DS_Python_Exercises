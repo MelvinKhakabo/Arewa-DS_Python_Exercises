{
 "cells": [
  {
   "cell_type": "markdown",
   "metadata": {},
   "source": [
    "# Day 5: 30 Days of python\n",
    "Exercises - Module 5"
   ]
  },
  {
   "cell_type": "markdown",
   "metadata": {},
   "source": [
    "1. Declare an empty list"
   ]
  },
  {
   "cell_type": "code",
   "execution_count": 1,
   "metadata": {},
   "outputs": [
    {
     "name": "stdout",
     "output_type": "stream",
     "text": [
      "[]\n"
     ]
    }
   ],
   "source": [
    "#declare an empty list\n",
    "empty_list = list()\n",
    "print(empty_list)"
   ]
  },
  {
   "cell_type": "markdown",
   "metadata": {},
   "source": [
    "2. Declare a list with more than 5 items"
   ]
  },
  {
   "cell_type": "code",
   "execution_count": 1,
   "metadata": {},
   "outputs": [
    {
     "name": "stdout",
     "output_type": "stream",
     "text": [
      "['Melvin', 24, 1.65, 'Single', 'Lagos']\n"
     ]
    }
   ],
   "source": [
    "\n",
    "#declare a list with more than 5 items\n",
    "my_list = ['Melvin', 24, 1.65, 'Single', 'Lagos']\n",
    "print(my_list)"
   ]
  },
  {
   "cell_type": "markdown",
   "metadata": {},
   "source": [
    "3. Find the length of your list"
   ]
  },
  {
   "cell_type": "code",
   "execution_count": 3,
   "metadata": {},
   "outputs": [
    {
     "name": "stdout",
     "output_type": "stream",
     "text": [
      "5\n"
     ]
    }
   ],
   "source": [
    "#Find the length of your list\n",
    "print(len(my_list))"
   ]
  },
  {
   "cell_type": "markdown",
   "metadata": {},
   "source": [
    "4. Get the first item, the middle item and the last item of the list"
   ]
  },
  {
   "cell_type": "code",
   "execution_count": 5,
   "metadata": {},
   "outputs": [
    {
     "name": "stdout",
     "output_type": "stream",
     "text": [
      "Melvin\n",
      "Lagos\n"
     ]
    }
   ],
   "source": [
    "#Get the first item, the middle item and the last item of the list\n",
    "\n",
    "first_item = my_list[0]\n",
    "print(first_item)           #First item of the list\n",
    "\n",
    "last_item = my_list[-1]\n",
    "print(last_item)"
   ]
  },
  {
   "cell_type": "markdown",
   "metadata": {},
   "source": [
    "5. Declare a list called mixed_data_types, put your(name, age, height, marital status, address)"
   ]
  },
  {
   "cell_type": "code",
   "execution_count": 6,
   "metadata": {},
   "outputs": [
    {
     "name": "stdout",
     "output_type": "stream",
     "text": [
      "['Melvin', '24', '63', 'single', 'Nairobi']\n"
     ]
    }
   ],
   "source": [
    "#Declare a list called mixed_data_types, put your(name, age, height, marital status, address)\n",
    "mixed_data_types = ['Melvin', '24', '63', 'single', 'Nairobi']\n",
    "print(mixed_data_types)"
   ]
  },
  {
   "cell_type": "markdown",
   "metadata": {},
   "source": [
    "6. Declare a list variable named it_companies and assign initial values Facebook, Google, Microsoft, Apple, IBM, Oracle and Amazon."
   ]
  },
  {
   "cell_type": "code",
   "execution_count": 2,
   "metadata": {},
   "outputs": [],
   "source": [
    "#Declare a list variable named it_companies and assign initial values Facebook, Google, Microsoft, Apple, IBM, Oracle and Amazon.\n",
    "it_companies = ['facebook', 'Google', 'Microsoft', 'Apple', 'IBM', 'Oracle', 'Amazon']"
   ]
  },
  {
   "cell_type": "markdown",
   "metadata": {},
   "source": [
    "7. Print the List using print()"
   ]
  },
  {
   "cell_type": "code",
   "execution_count": 3,
   "metadata": {},
   "outputs": [
    {
     "name": "stdout",
     "output_type": "stream",
     "text": [
      "['facebook', 'Google', 'Microsoft', 'Apple', 'IBM', 'Oracle', 'Amazon']\n"
     ]
    }
   ],
   "source": [
    "print(it_companies)"
   ]
  },
  {
   "cell_type": "markdown",
   "metadata": {},
   "source": [
    "8. Print the list using print()"
   ]
  },
  {
   "cell_type": "code",
   "execution_count": 4,
   "metadata": {},
   "outputs": [
    {
     "name": "stdout",
     "output_type": "stream",
     "text": [
      "7\n"
     ]
    }
   ],
   "source": [
    "#Print the list using print()\n",
    "print(len(it_companies))"
   ]
  },
  {
   "cell_type": "markdown",
   "metadata": {},
   "source": [
    "9. Print the first, middle and last company"
   ]
  },
  {
   "cell_type": "code",
   "execution_count": 5,
   "metadata": {},
   "outputs": [
    {
     "name": "stdout",
     "output_type": "stream",
     "text": [
      "facebook\n",
      "Apple\n",
      "Amazon\n"
     ]
    }
   ],
   "source": [
    "first_it_company = it_companies[0]\n",
    "print(first_it_company)             #printing the first item in the it company list\n",
    "\n",
    "middle_it_company = it_companies[3]\n",
    "print(middle_it_company)            #printing the middle item in the it company list\n",
    "\n",
    "last_it_company = it_companies[-1]\n",
    "print(last_it_company)"
   ]
  },
  {
   "cell_type": "markdown",
   "metadata": {},
   "source": [
    "10. Print the list after modifying one of the companies"
   ]
  },
  {
   "cell_type": "code",
   "execution_count": 6,
   "metadata": {},
   "outputs": [
    {
     "name": "stdout",
     "output_type": "stream",
     "text": [
      "['facebook', 'Google', 'Microsoft', 'Apple', 'Twitter', 'Oracle', 'Amazon']\n"
     ]
    }
   ],
   "source": [
    "#Print the list after modifying one of the companies\n",
    "it_companies[-3] = 'Twitter'\n",
    "print(it_companies)"
   ]
  },
  {
   "cell_type": "markdown",
   "metadata": {},
   "source": [
    "11. Add an IT company to it_companies"
   ]
  },
  {
   "cell_type": "code",
   "execution_count": 7,
   "metadata": {},
   "outputs": [
    {
     "name": "stdout",
     "output_type": "stream",
     "text": [
      "['facebook', 'Google', 'Microsoft', 'Apple', 'Twitter', 'Oracle', 'Amazon', 'TCS']\n"
     ]
    }
   ],
   "source": [
    "#Add an IT company to it_companies\n",
    "it_companies.append('TCS')\n",
    "print(it_companies)"
   ]
  },
  {
   "cell_type": "markdown",
   "metadata": {},
   "source": [
    "12. Insert an IT company in the middle of the companies list"
   ]
  },
  {
   "cell_type": "code",
   "execution_count": 8,
   "metadata": {},
   "outputs": [
    {
     "name": "stdout",
     "output_type": "stream",
     "text": [
      "['facebook', 'Google', 'Microsoft', 'Infosys', 'Apple', 'Twitter', 'Oracle', 'Amazon', 'TCS']\n"
     ]
    }
   ],
   "source": [
    "#Insert an IT company in the middle of the companies list\n",
    "it_companies.insert(3, 'Infosys')\n",
    "print(it_companies)"
   ]
  },
  {
   "cell_type": "markdown",
   "metadata": {},
   "source": [
    "13. Change one of the it_companies names to uppercase (IBM excluded!)"
   ]
  },
  {
   "cell_type": "code",
   "execution_count": 9,
   "metadata": {},
   "outputs": [
    {
     "name": "stdout",
     "output_type": "stream",
     "text": [
      "['facebook', 'GOOGLE', 'Microsoft', 'Infosys', 'Apple', 'Twitter', 'Oracle', 'Amazon', 'TCS']\n"
     ]
    }
   ],
   "source": [
    "#Change one of the it_companies names to uppercase (IBM excluded!)\n",
    "it_companies[1] = it_companies[1].upper()\n",
    "print(it_companies)"
   ]
  },
  {
   "cell_type": "markdown",
   "metadata": {},
   "source": [
    "14. Join the it_companies with a string '#; '"
   ]
  },
  {
   "cell_type": "code",
   "execution_count": 10,
   "metadata": {},
   "outputs": [
    {
     "name": "stdout",
     "output_type": "stream",
     "text": [
      "facebook#; GOOGLE#; Microsoft#; Infosys#; Apple#; Twitter#; Oracle#; Amazon#; TCS\n"
     ]
    }
   ],
   "source": [
    "#Join the it_companies with a string '#; '\n",
    "it_companies_string = '#; '.join(it_companies)\n",
    "print(it_companies_string)"
   ]
  },
  {
   "cell_type": "markdown",
   "metadata": {},
   "source": [
    "15. Check if a certain company exists in the it_companies list."
   ]
  },
  {
   "cell_type": "code",
   "execution_count": 11,
   "metadata": {},
   "outputs": [
    {
     "name": "stdout",
     "output_type": "stream",
     "text": [
      "True\n",
      "False\n"
     ]
    }
   ],
   "source": [
    "#Check if a certain company exists in the it_companies list.\n",
    "print('Infosys' in it_companies)\n",
    "print('Infosys' not in it_companies)"
   ]
  },
  {
   "cell_type": "markdown",
   "metadata": {},
   "source": [
    "16. Sort the list using sort() method"
   ]
  },
  {
   "cell_type": "code",
   "execution_count": 12,
   "metadata": {},
   "outputs": [
    {
     "name": "stdout",
     "output_type": "stream",
     "text": [
      "['Amazon', 'Apple', 'GOOGLE', 'Infosys', 'Microsoft', 'Oracle', 'TCS', 'Twitter', 'facebook']\n"
     ]
    }
   ],
   "source": [
    "#Sort the list using sort() method\n",
    "it_companies.sort()\n",
    "print(it_companies)\n"
   ]
  },
  {
   "cell_type": "markdown",
   "metadata": {},
   "source": [
    "17. Reverse the list in descending order using reverse() method"
   ]
  },
  {
   "cell_type": "code",
   "execution_count": 13,
   "metadata": {},
   "outputs": [
    {
     "name": "stdout",
     "output_type": "stream",
     "text": [
      "['facebook', 'Twitter', 'TCS', 'Oracle', 'Microsoft', 'Infosys', 'GOOGLE', 'Apple', 'Amazon']\n"
     ]
    }
   ],
   "source": [
    "#Reverse the list in descending order using reverse() method\n",
    "it_companies.sort(reverse=True)\n",
    "print(it_companies)"
   ]
  },
  {
   "cell_type": "markdown",
   "metadata": {},
   "source": [
    "18. Slice out the first 3 companies from the list"
   ]
  },
  {
   "cell_type": "code",
   "execution_count": 16,
   "metadata": {},
   "outputs": [
    {
     "name": "stdout",
     "output_type": "stream",
     "text": [
      "['facebook', 'Twitter', 'TCS']\n"
     ]
    }
   ],
   "source": [
    "#Slice out the first 3 companies from the list\n",
    "it_companies = it_companies[:3]\n",
    "print(it_companies)"
   ]
  },
  {
   "cell_type": "markdown",
   "metadata": {},
   "source": [
    "19. Slice out the last 3 companies from the list"
   ]
  },
  {
   "cell_type": "code",
   "execution_count": 17,
   "metadata": {},
   "outputs": [
    {
     "name": "stdout",
     "output_type": "stream",
     "text": [
      "[]\n"
     ]
    }
   ],
   "source": [
    "#Slice out the last 3 companies from the list\n",
    "it_companies = it_companies[6:]\n",
    "print(it_companies)"
   ]
  },
  {
   "cell_type": "markdown",
   "metadata": {},
   "source": [
    "20. Slice out the middle IT company or companies from the list"
   ]
  },
  {
   "cell_type": "code",
   "execution_count": 18,
   "metadata": {},
   "outputs": [
    {
     "ename": "IndexError",
     "evalue": "list index out of range",
     "output_type": "error",
     "traceback": [
      "\u001b[1;31m---------------------------------------------------------------------------\u001b[0m",
      "\u001b[1;31mIndexError\u001b[0m                                Traceback (most recent call last)",
      "Cell \u001b[1;32mIn[18], line 2\u001b[0m\n\u001b[0;32m      1\u001b[0m \u001b[38;5;66;03m#Slice out the middle IT company or companies from the list\u001b[39;00m\n\u001b[1;32m----> 2\u001b[0m it_companies \u001b[38;5;241m=\u001b[39m \u001b[43mit_companies\u001b[49m\u001b[43m[\u001b[49m\u001b[38;5;241;43m6\u001b[39;49m\u001b[43m]\u001b[49m\n\u001b[0;32m      3\u001b[0m \u001b[38;5;28mprint\u001b[39m(it_companies)\n",
      "\u001b[1;31mIndexError\u001b[0m: list index out of range"
     ]
    }
   ],
   "source": [
    "#Slice out the middle IT company or companies from the list\n",
    "it_companies = it_companies[6]\n",
    "print(it_companies)"
   ]
  }
 ],
 "metadata": {
  "kernelspec": {
   "display_name": "Python 3",
   "language": "python",
   "name": "python3"
  },
  "language_info": {
   "codemirror_mode": {
    "name": "ipython",
    "version": 3
   },
   "file_extension": ".py",
   "mimetype": "text/x-python",
   "name": "python",
   "nbconvert_exporter": "python",
   "pygments_lexer": "ipython3",
   "version": "3.13.0"
  }
 },
 "nbformat": 4,
 "nbformat_minor": 2
}
