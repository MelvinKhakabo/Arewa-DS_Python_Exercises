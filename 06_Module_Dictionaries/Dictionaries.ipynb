{
 "cells": [
  {
   "cell_type": "markdown",
   "metadata": {},
   "source": [
    "# Day 6: 30 Days of python programming\n",
    "## Exercises - Module 6"
   ]
  },
  {
   "cell_type": "markdown",
   "metadata": {},
   "source": [
    "1. Create an empty dictionary called dog"
   ]
  },
  {
   "cell_type": "code",
   "execution_count": 1,
   "metadata": {},
   "outputs": [
    {
     "name": "stdout",
     "output_type": "stream",
     "text": [
      "{}\n"
     ]
    }
   ],
   "source": [
    "#Create an empty dictionary called dog\n",
    "dog = {}\n",
    "print(dog)\n"
   ]
  },
  {
   "cell_type": "markdown",
   "metadata": {},
   "source": [
    "2. Add name, color, breed, legs, age to the dog dictionary"
   ]
  },
  {
   "cell_type": "code",
   "execution_count": 2,
   "metadata": {},
   "outputs": [],
   "source": [
    "#Add name, color, breed, legs, age to the dog dictionary\n",
    "dog = {\n",
    "    \"name\": \"Mandela\",\n",
    "    \"color\": \"brown\",\n",
    "    \"breed\": \"German Shepherd\",\n",
    "    \"legs\": 4,\n",
    "    \"age\": 10\n",
    "}"
   ]
  },
  {
   "cell_type": "markdown",
   "metadata": {},
   "source": [
    "3.Create a student dictionary and add first_name, last_name, gender, age, marital status, skills, country, city and address as keys for the dictionary"
   ]
  },
  {
   "cell_type": "code",
   "execution_count": 4,
   "metadata": {},
   "outputs": [],
   "source": [
    "#Create a student dictionary and add first_name, last_name, gender, age, marital status, skills, country, city and address as keys for the dictionary\n",
    "Student = {\n",
    "    \"first_name\": \"Melvin\",\n",
    "    \"last_name\": \"Khakabo\",\n",
    "    \"gender\": \"female\",\n",
    "    \"age\": \"24\",\n",
    "    \"marital_status\": \"single\",\n",
    "    \"skills\": ['python', 'machine learning'],\n",
    "    \"country\": \"Kenya\",\n",
    "    \"city\": \"Nairobi\",\n",
    "    \"address\": \"254,Nairobi\",\n",
    "}"
   ]
  },
  {
   "cell_type": "markdown",
   "metadata": {},
   "source": [
    "4. Get the length of the student dictionary"
   ]
  },
  {
   "cell_type": "code",
   "execution_count": 5,
   "metadata": {},
   "outputs": [
    {
     "name": "stdout",
     "output_type": "stream",
     "text": [
      "9\n"
     ]
    }
   ],
   "source": [
    "#Get the length of the student dictionary\n",
    "print(len(Student))"
   ]
  },
  {
   "cell_type": "markdown",
   "metadata": {},
   "source": [
    "5. Get the value of skills and check the data type, it should be a list"
   ]
  },
  {
   "cell_type": "code",
   "execution_count": 6,
   "metadata": {},
   "outputs": [
    {
     "name": "stdout",
     "output_type": "stream",
     "text": [
      "['python', 'machine learning']\n",
      "<class 'str'>\n"
     ]
    }
   ],
   "source": [
    "#Get the value of skills and check the data type, it should be a list\n",
    "# getting the value of the skills\n",
    "print(Student.get('skills'))\n",
    "\n",
    "# checking the data type of the skills\n",
    "print(type('skills'))"
   ]
  }
 ],
 "metadata": {
  "kernelspec": {
   "display_name": "Python 3",
   "language": "python",
   "name": "python3"
  },
  "language_info": {
   "codemirror_mode": {
    "name": "ipython",
    "version": 3
   },
   "file_extension": ".py",
   "mimetype": "text/x-python",
   "name": "python",
   "nbconvert_exporter": "python",
   "pygments_lexer": "ipython3",
   "version": "3.13.0"
  }
 },
 "nbformat": 4,
 "nbformat_minor": 2
}
