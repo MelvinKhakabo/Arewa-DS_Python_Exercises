{
 "cells": [
  {
   "cell_type": "markdown",
   "metadata": {},
   "source": [
    "# Day 7: 30 Days of python\n",
    "## Exercises - Module 7 Condition"
   ]
  },
  {
   "cell_type": "markdown",
   "metadata": {},
   "source": [
    "Exercises Level 1"
   ]
  },
  {
   "cell_type": "markdown",
   "metadata": {},
   "source": [
    "1. Get user input using input(“Enter your age: ”). If user is 18 or older, give feedback: You are old enough to drive. If below 18 give feedback to wait for the missing amount of years. Output:\n",
    "Enter your age: 30\n",
    "\n",
    "You are old enough to learn to drive.\n",
    "\n",
    "Output:\n",
    "\n",
    "Enter your age: 15\n",
    "\n",
    "You need 3 more years to learn to drive."
   ]
  },
  {
   "cell_type": "code",
   "execution_count": 3,
   "metadata": {},
   "outputs": [
    {
     "name": "stdout",
     "output_type": "stream",
     "text": [
      "You are old enough to learn to drive.\n"
     ]
    }
   ],
   "source": [
    "#Get user input using input(“Enter your age: ”). If user is 18 or older, give feedback: You are old enough to drive. If below 18 give feedback to wait for the missing amount of years.\n",
    "user_age = float(input(\"Enter your age.\"))\n",
    "missing_years = 18 - user_age\n",
    "if user_age >= 18:\n",
    "    print(f\"You are old enough to learn to drive.\")\n",
    "elif user_age < 18:\n",
    "    print(f\"You need {missing_years} to learn to drive.\")\n",
    "else:\n",
    "    print(\"Wait for your time!\")"
   ]
  },
  {
   "cell_type": "markdown",
   "metadata": {},
   "source": [
    "2. Compare the values of my_age and your_age using if … else. Who is older (me or you)? Use input(“Enter your age: ”) to get the age as input. You can use a nested condition to print 'year' for 1 year difference in age, 'years' for bigger differences, and a custom text if my_age = your_age. Output:\n",
    "Enter your age: 30\n",
    "\n",
    "You are 5 years older than me."
   ]
  },
  {
   "cell_type": "code",
   "execution_count": 10,
   "metadata": {},
   "outputs": [
    {
     "name": "stdout",
     "output_type": "stream",
     "text": [
      "You are 1 year older than me!\n"
     ]
    }
   ],
   "source": [
    "#Compare the values of my_age and your_age using if … else. Who is older (me or you)? Use input(“Enter your age: ”) to get the age as input. You can use a nested condition to print 'year' for 1 year difference in age, 'years' for bigger differences, and a custom text if my_age = your_age.\n",
    "my_age = 24\n",
    "your_age = int(input(\"Enter your age. \"))\n",
    "if your_age > my_age:\n",
    "    age_diff = your_age - my_age\n",
    "    if age_diff == 1:\n",
    "        print(f\"You are {age_diff} year older than me!\")\n",
    "    else:\n",
    "        print(f\"You are {age_diff} years older than me!\")\n",
    "elif your_age < my_age:\n",
    "    age_diff = my_age - your_age\n",
    "    if age_diff == 1:\n",
    "        print(f\"I am {age_diff} year older than you!\")\n",
    "    else:\n",
    "        print(f\" I am {age_diff} years older than you!\")\n",
    "else:\n",
    "    print(\"We are the same age!\")"
   ]
  },
  {
   "cell_type": "markdown",
   "metadata": {},
   "source": [
    "3. The following list contains some fruits:\n",
    "fruits = ['banana', 'orange', 'mango', 'lemon']\n",
    "If a fruit doesn't exist in the list add the fruit to the list and print the modified list. If the fruit exists print('That fruit\n",
    "\n",
    "already exist in the list')"
   ]
  },
  {
   "cell_type": "code",
   "execution_count": 2,
   "metadata": {},
   "outputs": [
    {
     "name": "stdout",
     "output_type": "stream",
     "text": [
      "The fruit has been added. \n",
      "And the new list is ['banana', 'orange', 'mango', 'lemon', 'apple']\n"
     ]
    }
   ],
   "source": [
    "#The following list contains some fruits:\n",
    "fruits = ['banana', 'orange', 'mango', 'lemon']\n",
    "#If a fruit doesn't exist in the list add the fruit to the list and print the modified list. If the fruit exists print('That fruit already exist in the list')\n",
    "#already exist in the list')fruits = ['banana', 'orange', 'mango', 'lemon']\n",
    "add_fruit = input(\"Enter a fruit: \").lower().strip()\n",
    "if add_fruit in fruits:            # Getting the fruit input from the user\n",
    "    print(\"That fruit already exists\")\n",
    "else:\n",
    "    fruits.append(add_fruit)           # Adding the fruit inputted to the list if not there\n",
    "    print(f\"The fruit has been added. \\nAnd the new list is {fruits}\")"
   ]
  },
  {
   "cell_type": "markdown",
   "metadata": {},
   "source": [
    "   3.Get two numbers from the user using input prompt. If a is greater than b return a is greater than b, if a is less b return a is smaller than b, else a is equal to b. Output:\n",
    "Enter number one: 4\n",
    "\n",
    "Enter number two: 3\n",
    "\n",
    "4 is greater than 3"
   ]
  },
  {
   "cell_type": "code",
   "execution_count": null,
   "metadata": {},
   "outputs": [],
   "source": [
    "#Get two numbers from the user using input prompt. If a is greater than b return a is greater than b, if a is less b return a is smaller than b, else a is equal to b.\n",
    "num_one = int(input(\"Enter number:\"))\n",
    "num_two = int(input(\"Enter number: \"))\n",
    "if num_one > num_two:\n",
    "    print(f\"{num_one} is greater than {num_two}\")\n",
    "elif num_one < num_two:\n",
    "    print(f\"{num_one} is smaller than {num_two}\")\n",
    "else:\n",
    "    print(f\"{num_one} is euqal to {num_two}\")"
   ]
  },
  {
   "cell_type": "markdown",
   "metadata": {},
   "source": [
    "Exercises: Level 2"
   ]
  },
  {
   "cell_type": "markdown",
   "metadata": {},
   "source": [
    "1. Write a code which gives grade to students according to theirs scores:\n",
    "80-100, A\n",
    "\n",
    "70-89, B\n",
    "\n",
    "60-69, C\n",
    "\n",
    "50-59, D\n",
    "\n",
    "0-49, F"
   ]
  },
  {
   "cell_type": "code",
   "execution_count": 1,
   "metadata": {},
   "outputs": [
    {
     "name": "stdout",
     "output_type": "stream",
     "text": [
      "The student's grade is B\n"
     ]
    }
   ],
   "source": [
    "#Write a code which gives grade to students according to theirs scores:\n",
    "score = int(input())\n",
    "if 80 <= score <=100:\n",
    "    grade = 'A'\n",
    "elif 70 <= score <=89:\n",
    "    grade = 'B'\n",
    "elif 60 <= score <=69:\n",
    "    grade = 'C'\n",
    "elif 50 <= score <= 59:\n",
    "    grade = 'D'\n",
    "elif 0 <= score <= 49:\n",
    "    grade = 'E'\n",
    "elif 0 == score:\n",
    "    grade = 'F'\n",
    "print(f\"The student's grade is {grade}\")"
   ]
  },
  {
   "cell_type": "markdown",
   "metadata": {},
   "source": [
    "2. Check if the season is Autumn, Winter, Spring or Summer. If the user input is: September, October or November, the season is Autumn. December, January or February, the season is Winter. March, April or May, the season is Spring June, July or August, the season is Summer"
   ]
  },
  {
   "cell_type": "code",
   "execution_count": 2,
   "metadata": {},
   "outputs": [
    {
     "name": "stdout",
     "output_type": "stream",
     "text": [
      "The season is Spring\n"
     ]
    }
   ],
   "source": [
    "month = input('Enter the month: ').strip().capitalize()\n",
    "\n",
    "if month in ['September', 'October', 'November']:\n",
    "    season = 'Autumn'\n",
    "elif month in ['December', 'January', 'February']:\n",
    "    season = 'Winter'\n",
    "elif month in ['May', 'March', 'April']:\n",
    "    season = 'Spring'\n",
    "elif month in ['June', 'July', 'August']:\n",
    "    season = 'Summer'\n",
    "else:\n",
    "    season = 'Invalid month'\n",
    "print(f\"The season is {season}\")"
   ]
  },
  {
   "cell_type": "markdown",
   "metadata": {},
   "source": [
    "3. The following list contains some fruits:\n",
    "fruits = ['banana', 'orange', 'mango', 'lemon']\n",
    "If a fruit doesn't exist in the list add the fruit to the list and print the modified list. If the fruit exists print('That fruit\n",
    "\n",
    "already exist in the list')"
   ]
  },
  {
   "cell_type": "code",
   "execution_count": 3,
   "metadata": {},
   "outputs": [
    {
     "name": "stdout",
     "output_type": "stream",
     "text": [
      "That fruit already exists\n"
     ]
    }
   ],
   "source": [
    "fruits = ['banana', 'orange', 'mango', 'lemon']\n",
    "new_fruits = input(\"Enter a fruit: \").lower().strip()\n",
    "if new_fruits in fruits:            # Getting the fruit input from the user\n",
    "    print(\"That fruit already exists\")\n",
    "else:\n",
    "    fruits.append(new_fruits)           # Adding the fruit inputted to the list if not there\n",
    "    print(f\"The fruit has been added. \\nAnd the new list is {fruits}\")"
   ]
  },
  {
   "cell_type": "markdown",
   "metadata": {},
   "source": [
    "Exercises: Level 2\n",
    "\n",
    "1. Here we have a person dictionary. Feel free to modify it!\n",
    "Check if the person dictionary has skills key, if so print out the middle skill in the skills list.\n",
    "Check if the person dictionary has skills key, if so check if the person has 'Python' skill and print out the result.\n",
    "If a person skills has only JavaScript and React, print('He is a front end developer'), if the person skills has Node, Python, MongoDB, print('He is a backend developer'), if the person skills has React, Node and MongoDB, Print('He is a fullstack developer'), else print('unknown title') - for more accurate results more conditions can be nested!\n",
    "If the person is married and if he lives in Finland, print the information in the following format/:"
   ]
  },
  {
   "cell_type": "code",
   "execution_count": 4,
   "metadata": {},
   "outputs": [
    {
     "name": "stdout",
     "output_type": "stream",
     "text": [
      "The middle skill is: Node\n",
      "Is 'Python' inside the skill? True\n",
      "He is a backend developer\n",
      "Asabeneh Yetayeh lives in Finland. He is married.\n"
     ]
    }
   ],
   "source": [
    "# Dictionary \n",
    "person={\n",
    "    'first_name': 'Asabeneh',\n",
    "    'last_name': 'Yetayeh',\n",
    "    'age': 250,\n",
    "    'country': 'Finland',\n",
    "    'is_married': True,\n",
    "    'skills': ['JavaScript', 'React', 'Node', 'MongoDB', 'Python'],\n",
    "    'address': {\n",
    "        'street': 'Space street',\n",
    "        'zipcode': '02210'\n",
    "    }\n",
    "}\n",
    "\n",
    "# Check if the person dictionary has skills key, if so print out the middle skill in the skills list.\n",
    "if 'skills' in person:\n",
    "    skills = person['skills']\n",
    "    middle_skill = skills[len(skills) // 2]\n",
    "    print(f\"The middle skill is: {middle_skill}\") # Printing the middle skill if there\n",
    "\n",
    "# Check if the person dictionary has skills key, if so check if the person has 'Python' skill and print out the result.\n",
    "if 'skills' in person:\n",
    "    is_python = 'Python' in person['skills']\n",
    "    print(f\"Is 'Python' inside the skill? {is_python}\")\n",
    "\n",
    "# If a person skills has only JavaScript and React, print('He is a front end developer'), \n",
    "# if the person skills has Node, Python, MongoDB, print('He is a backend developer'), \n",
    "# if the person skills has React, Node and MongoDB, Print('He is a fullstack developer'), \n",
    "# else print('unknown title') - for more accurate results more conditions can be nested!\n",
    "if 'skills' in person:\n",
    "    skills = set(person['skills'])\n",
    "    if skills == {'Javascript', 'React'}:\n",
    "        print('He is a front end developer')\n",
    "    elif skills.issuperset({'Node', 'Python', 'MongoDB'}):\n",
    "        print('He is a backend developer')\n",
    "    elif skills.issuperset({'React', 'Node', 'MongoDB'}):\n",
    "        print('he is a fullstack developer')\n",
    "    else:\n",
    "        print('Unknown title')\n",
    "\n",
    "# If the person is married and if he lives in Finland, print the information in the following format/:\n",
    "# Asabeneh Yetayeh lives in Finland. He is married.\n",
    "if person.get('is_married') and person.get('country') == 'Finland':\n",
    "    first_name = person['first_name']\n",
    "    last_name = person['last_name']\n",
    "    country = person['country']\n",
    "    print(f\"{first_name} {last_name} lives in {country}. He is married.\")\n"
   ]
  }
 ],
 "metadata": {
  "kernelspec": {
   "display_name": "Python 3",
   "language": "python",
   "name": "python3"
  },
  "language_info": {
   "codemirror_mode": {
    "name": "ipython",
    "version": 3
   },
   "file_extension": ".py",
   "mimetype": "text/x-python",
   "name": "python",
   "nbconvert_exporter": "python",
   "pygments_lexer": "ipython3",
   "version": "3.13.0"
  }
 },
 "nbformat": 4,
 "nbformat_minor": 2
}
