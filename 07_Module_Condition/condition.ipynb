{
 "cells": [
  {
   "cell_type": "markdown",
   "metadata": {},
   "source": [
    "# Day 7: 30 Days of python\n",
    "## Exercises - Module 7 Condition"
   ]
  },
  {
   "cell_type": "markdown",
   "metadata": {},
   "source": [
    "Exercises Level 1"
   ]
  },
  {
   "cell_type": "markdown",
   "metadata": {},
   "source": [
    "1. Get user input using input(“Enter your age: ”). If user is 18 or older, give feedback: You are old enough to drive. If below 18 give feedback to wait for the missing amount of years. Output:\n",
    "Enter your age: 30\n",
    "\n",
    "You are old enough to learn to drive.\n",
    "\n",
    "Output:\n",
    "\n",
    "Enter your age: 15\n",
    "\n",
    "You need 3 more years to learn to drive."
   ]
  },
  {
   "cell_type": "code",
   "execution_count": 3,
   "metadata": {},
   "outputs": [
    {
     "name": "stdout",
     "output_type": "stream",
     "text": [
      "You are old enough to learn to drive.\n"
     ]
    }
   ],
   "source": [
    "#Get user input using input(“Enter your age: ”). If user is 18 or older, give feedback: You are old enough to drive. If below 18 give feedback to wait for the missing amount of years.\n",
    "user_age = float(input(\"Enter your age.\"))\n",
    "missing_years = 18 - user_age\n",
    "if user_age >= 18:\n",
    "    print(f\"You are old enough to learn to drive.\")\n",
    "elif user_age < 18:\n",
    "    print(f\"You need {missing_years} to learn to drive.\")\n",
    "else:\n",
    "    print(\"Wait for your time!\")"
   ]
  },
  {
   "cell_type": "markdown",
   "metadata": {},
   "source": [
    "2. Compare the values of my_age and your_age using if … else. Who is older (me or you)? Use input(“Enter your age: ”) to get the age as input. You can use a nested condition to print 'year' for 1 year difference in age, 'years' for bigger differences, and a custom text if my_age = your_age. Output:\n",
    "Enter your age: 30\n",
    "\n",
    "You are 5 years older than me."
   ]
  },
  {
   "cell_type": "code",
   "execution_count": 10,
   "metadata": {},
   "outputs": [
    {
     "name": "stdout",
     "output_type": "stream",
     "text": [
      "You are 1 year older than me!\n"
     ]
    }
   ],
   "source": [
    "#Compare the values of my_age and your_age using if … else. Who is older (me or you)? Use input(“Enter your age: ”) to get the age as input. You can use a nested condition to print 'year' for 1 year difference in age, 'years' for bigger differences, and a custom text if my_age = your_age.\n",
    "my_age = 24\n",
    "your_age = int(input(\"Enter your age. \"))\n",
    "if your_age > my_age:\n",
    "    age_diff = your_age - my_age\n",
    "    if age_diff == 1:\n",
    "        print(f\"You are {age_diff} year older than me!\")\n",
    "    else:\n",
    "        print(f\"You are {age_diff} years older than me!\")\n",
    "elif your_age < my_age:\n",
    "    age_diff = my_age - your_age\n",
    "    if age_diff == 1:\n",
    "        print(f\"I am {age_diff} year older than you!\")\n",
    "    else:\n",
    "        print(f\" I am {age_diff} years older than you!\")\n",
    "else:\n",
    "    print(\"We are the same age!\")"
   ]
  },
  {
   "cell_type": "markdown",
   "metadata": {},
   "source": [
    "3. The following list contains some fruits:\n",
    "fruits = ['banana', 'orange', 'mango', 'lemon']\n",
    "If a fruit doesn't exist in the list add the fruit to the list and print the modified list. If the fruit exists print('That fruit\n",
    "\n",
    "already exist in the list')"
   ]
  },
  {
   "cell_type": "code",
   "execution_count": 2,
   "metadata": {},
   "outputs": [
    {
     "name": "stdout",
     "output_type": "stream",
     "text": [
      "The fruit has been added. \n",
      "And the new list is ['banana', 'orange', 'mango', 'lemon', 'apple']\n"
     ]
    }
   ],
   "source": [
    "#The following list contains some fruits:\n",
    "fruits = ['banana', 'orange', 'mango', 'lemon']\n",
    "#If a fruit doesn't exist in the list add the fruit to the list and print the modified list. If the fruit exists print('That fruit already exist in the list')\n",
    "#already exist in the list')fruits = ['banana', 'orange', 'mango', 'lemon']\n",
    "add_fruit = input(\"Enter a fruit: \").lower().strip()\n",
    "if add_fruit in fruits:            # Getting the fruit input from the user\n",
    "    print(\"That fruit already exists\")\n",
    "else:\n",
    "    fruits.append(add_fruit)           # Adding the fruit inputted to the list if not there\n",
    "    print(f\"The fruit has been added. \\nAnd the new list is {fruits}\")"
   ]
  },
  {
   "cell_type": "markdown",
   "metadata": {},
   "source": [
    "   3.Get two numbers from the user using input prompt. If a is greater than b return a is greater than b, if a is less b return a is smaller than b, else a is equal to b. Output:\n",
    "Enter number one: 4\n",
    "\n",
    "Enter number two: 3\n",
    "\n",
    "4 is greater than 3"
   ]
  },
  {
   "cell_type": "code",
   "execution_count": null,
   "metadata": {},
   "outputs": [],
   "source": [
    "#Get two numbers from the user using input prompt. If a is greater than b return a is greater than b, if a is less b return a is smaller than b, else a is equal to b.\n",
    "num_one = int(input(\"Enter number:\"))\n",
    "num_two = int(input(\"Enter number: \"))\n",
    "if num_one > num_two:\n",
    "    print(f\"{num_one} is greater than {num_two}\")\n",
    "elif num_one < num_two:\n",
    "    print(f\"{num_one} is smaller than {num_two}\")\n",
    "else:\n",
    "    print(f\"{num_one} is euqal to {num_two}\")"
   ]
  },
  {
   "cell_type": "code",
   "execution_count": null,
   "metadata": {},
   "outputs": [],
   "source": []
  }
 ],
 "metadata": {
  "kernelspec": {
   "display_name": "Python 3",
   "language": "python",
   "name": "python3"
  },
  "language_info": {
   "codemirror_mode": {
    "name": "ipython",
    "version": 3
   },
   "file_extension": ".py",
   "mimetype": "text/x-python",
   "name": "python",
   "nbconvert_exporter": "python",
   "pygments_lexer": "ipython3",
   "version": "3.13.0"
  }
 },
 "nbformat": 4,
 "nbformat_minor": 2
}
