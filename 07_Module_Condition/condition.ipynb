{
 "cells": [
  {
   "cell_type": "markdown",
   "metadata": {},
   "source": [
    "# Day 7: 30 Days of python\n",
    "## Exercises - Module 7 Condition"
   ]
  },
  {
   "cell_type": "markdown",
   "metadata": {},
   "source": [
    "Exercises Level 1"
   ]
  },
  {
   "cell_type": "markdown",
   "metadata": {},
   "source": [
    "1. Get user input using input(“Enter your age: ”). If user is 18 or older, give feedback: You are old enough to drive. If below 18 give feedback to wait for the missing amount of years. Output:\n",
    "Enter your age: 30\n",
    "\n",
    "You are old enough to learn to drive.\n",
    "\n",
    "Output:\n",
    "\n",
    "Enter your age: 15\n",
    "\n",
    "You need 3 more years to learn to drive."
   ]
  },
  {
   "cell_type": "code",
   "execution_count": 2,
   "metadata": {},
   "outputs": [
    {
     "name": "stdout",
     "output_type": "stream",
     "text": [
      "Enter your age: 24.0 \n",
      "You are old enough to learn to drive.\n"
     ]
    }
   ],
   "source": [
    "#Get user input using input(“Enter your age: ”). If user is 18 or older, give feedback: You are old enough to drive. If below 18 give feedback to wait for the missing amount of years.\n",
    "user_age = float(input())\n",
    "missing_years = 18 - user_age\n",
    "if user_age >= 18:\n",
    "    print(f\"Enter your age: {user_age} \\nYou are old enough to learn to drive.\")\n",
    "elif user_age < 18:\n",
    "    print(f\"Enter your age: {user_age} \\nYou need {missing_years} to learn to drive.\")\n",
    "else:\n",
    "    print(\"Wait for your time!\")"
   ]
  }
 ],
 "metadata": {
  "kernelspec": {
   "display_name": "Python 3",
   "language": "python",
   "name": "python3"
  },
  "language_info": {
   "codemirror_mode": {
    "name": "ipython",
    "version": 3
   },
   "file_extension": ".py",
   "mimetype": "text/x-python",
   "name": "python",
   "nbconvert_exporter": "python",
   "pygments_lexer": "ipython3",
   "version": "3.13.0"
  }
 },
 "nbformat": 4,
 "nbformat_minor": 2
}
